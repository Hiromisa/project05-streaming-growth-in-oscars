{
 "cells": [
  {
   "cell_type": "code",
   "execution_count": 1,
   "id": "7d6434e9",
   "metadata": {},
   "outputs": [
    {
     "name": "stderr",
     "output_type": "stream",
     "text": [
      "/Users/hiromi/.pyenv/versions/3.8.10/lib/python3.8/site-packages/pandas/compat/__init__.py:97: UserWarning: Could not import the lzma module. Your installed Python is incomplete. Attempting to use lzma compression will result in a RuntimeError.\n",
      "  warnings.warn(msg)\n"
     ]
    }
   ],
   "source": [
    "import pandas as pd\n",
    "import numpy as np\n",
    "import seaborn as sns\n",
    "import matplotlib.pyplot as plt"
   ]
  },
  {
   "cell_type": "code",
   "execution_count": 2,
   "id": "84e7457f",
   "metadata": {},
   "outputs": [],
   "source": [
    "sns.set()"
   ]
  },
  {
   "cell_type": "code",
   "execution_count": 3,
   "id": "dfa83860",
   "metadata": {},
   "outputs": [],
   "source": [
    "df = pd.read_csv(\"Oscarsdata.csv\")"
   ]
  },
  {
   "cell_type": "code",
   "execution_count": 4,
   "id": "b22eddc5",
   "metadata": {},
   "outputs": [
    {
     "data": {
      "text/html": [
       "<div>\n",
       "<style scoped>\n",
       "    .dataframe tbody tr th:only-of-type {\n",
       "        vertical-align: middle;\n",
       "    }\n",
       "\n",
       "    .dataframe tbody tr th {\n",
       "        vertical-align: top;\n",
       "    }\n",
       "\n",
       "    .dataframe thead th {\n",
       "        text-align: right;\n",
       "    }\n",
       "</style>\n",
       "<table border=\"1\" class=\"dataframe\">\n",
       "  <thead>\n",
       "    <tr style=\"text-align: right;\">\n",
       "      <th></th>\n",
       "      <th>year_film</th>\n",
       "      <th>year_ceremony</th>\n",
       "      <th>ceremony</th>\n",
       "      <th>category</th>\n",
       "      <th>name</th>\n",
       "      <th>film</th>\n",
       "      <th>winner</th>\n",
       "      <th>distributor</th>\n",
       "    </tr>\n",
       "  </thead>\n",
       "  <tbody>\n",
       "    <tr>\n",
       "      <th>0</th>\n",
       "      <td>2020</td>\n",
       "      <td>2021</td>\n",
       "      <td>93</td>\n",
       "      <td>ACTOR IN A LEADING ROLE</td>\n",
       "      <td>Chadwick Boseman</td>\n",
       "      <td>Ma Rainey's Black Bottom</td>\n",
       "      <td>False</td>\n",
       "      <td>Netflix</td>\n",
       "    </tr>\n",
       "    <tr>\n",
       "      <th>1</th>\n",
       "      <td>2020</td>\n",
       "      <td>2021</td>\n",
       "      <td>93</td>\n",
       "      <td>ACTOR IN A LEADING ROLE</td>\n",
       "      <td>Gary Oldman</td>\n",
       "      <td>Mank</td>\n",
       "      <td>False</td>\n",
       "      <td>Netflix</td>\n",
       "    </tr>\n",
       "  </tbody>\n",
       "</table>\n",
       "</div>"
      ],
      "text/plain": [
       "   year_film  year_ceremony  ceremony                 category  \\\n",
       "0       2020           2021        93  ACTOR IN A LEADING ROLE   \n",
       "1       2020           2021        93  ACTOR IN A LEADING ROLE   \n",
       "\n",
       "               name                      film  winner distributor  \n",
       "0  Chadwick Boseman  Ma Rainey's Black Bottom   False     Netflix  \n",
       "1       Gary Oldman                      Mank   False     Netflix  "
      ]
     },
     "execution_count": 4,
     "metadata": {},
     "output_type": "execute_result"
    }
   ],
   "source": [
    "df.head(2)"
   ]
  },
  {
   "cell_type": "code",
   "execution_count": 5,
   "id": "3e1a0e21",
   "metadata": {},
   "outputs": [
    {
     "name": "stdout",
     "output_type": "stream",
     "text": [
      "<class 'pandas.core.frame.DataFrame'>\n",
      "RangeIndex: 10515 entries, 0 to 10514\n",
      "Data columns (total 8 columns):\n",
      " #   Column         Non-Null Count  Dtype \n",
      "---  ------         --------------  ----- \n",
      " 0   year_film      10515 non-null  int64 \n",
      " 1   year_ceremony  10515 non-null  int64 \n",
      " 2   ceremony       10515 non-null  int64 \n",
      " 3   category       10515 non-null  object\n",
      " 4   name           10515 non-null  object\n",
      " 5   film           10209 non-null  object\n",
      " 6   winner         10515 non-null  bool  \n",
      " 7   distributor    1212 non-null   object\n",
      "dtypes: bool(1), int64(3), object(4)\n",
      "memory usage: 585.4+ KB\n"
     ]
    }
   ],
   "source": [
    "# df.describe\n",
    "df.info()"
   ]
  },
  {
   "cell_type": "code",
   "execution_count": 6,
   "id": "182247e3",
   "metadata": {},
   "outputs": [],
   "source": [
    "# df[df.distributor.isna()]\n",
    "# df[df.distributor.notna()]\n",
    "# df[df.film.isna()]"
   ]
  },
  {
   "cell_type": "markdown",
   "id": "31ee7e1e",
   "metadata": {},
   "source": [
    "- 'year_film' = 2011~2020 contains info in 'distributor' columns\n",
    "- some award like HONORARY AWARD, SPECIAL AWARD don't has 'film' but  prople's 'name'."
   ]
  },
  {
   "cell_type": "code",
   "execution_count": 7,
   "id": "d6ae196a",
   "metadata": {
    "scrolled": true
   },
   "outputs": [
    {
     "data": {
      "text/html": [
       "<div>\n",
       "<style scoped>\n",
       "    .dataframe tbody tr th:only-of-type {\n",
       "        vertical-align: middle;\n",
       "    }\n",
       "\n",
       "    .dataframe tbody tr th {\n",
       "        vertical-align: top;\n",
       "    }\n",
       "\n",
       "    .dataframe thead th {\n",
       "        text-align: right;\n",
       "    }\n",
       "</style>\n",
       "<table border=\"1\" class=\"dataframe\">\n",
       "  <thead>\n",
       "    <tr style=\"text-align: right;\">\n",
       "      <th></th>\n",
       "      <th>category</th>\n",
       "    </tr>\n",
       "  </thead>\n",
       "  <tbody>\n",
       "    <tr>\n",
       "      <th>DIRECTING</th>\n",
       "      <td>454</td>\n",
       "    </tr>\n",
       "    <tr>\n",
       "      <th>FILM EDITING</th>\n",
       "      <td>435</td>\n",
       "    </tr>\n",
       "    <tr>\n",
       "      <th>ACTOR IN A SUPPORTING ROLE</th>\n",
       "      <td>425</td>\n",
       "    </tr>\n",
       "    <tr>\n",
       "      <th>ACTRESS IN A SUPPORTING ROLE</th>\n",
       "      <td>425</td>\n",
       "    </tr>\n",
       "    <tr>\n",
       "      <th>DOCUMENTARY (Short Subject)</th>\n",
       "      <td>373</td>\n",
       "    </tr>\n",
       "    <tr>\n",
       "      <th>BEST PICTURE</th>\n",
       "      <td>341</td>\n",
       "    </tr>\n",
       "    <tr>\n",
       "      <th>DOCUMENTARY (Feature)</th>\n",
       "      <td>340</td>\n",
       "    </tr>\n",
       "    <tr>\n",
       "      <th>CINEMATOGRAPHY</th>\n",
       "      <td>323</td>\n",
       "    </tr>\n",
       "    <tr>\n",
       "      <th>FOREIGN LANGUAGE FILM</th>\n",
       "      <td>315</td>\n",
       "    </tr>\n",
       "    <tr>\n",
       "      <th>ART DIRECTION</th>\n",
       "      <td>307</td>\n",
       "    </tr>\n",
       "    <tr>\n",
       "      <th>COSTUME DESIGN</th>\n",
       "      <td>280</td>\n",
       "    </tr>\n",
       "    <tr>\n",
       "      <th>MUSIC (Original Score)</th>\n",
       "      <td>255</td>\n",
       "    </tr>\n",
       "    <tr>\n",
       "      <th>ACTRESS</th>\n",
       "      <td>236</td>\n",
       "    </tr>\n",
       "    <tr>\n",
       "      <th>ACTOR</th>\n",
       "      <td>232</td>\n",
       "    </tr>\n",
       "    <tr>\n",
       "      <th>SOUND</th>\n",
       "      <td>230</td>\n",
       "    </tr>\n",
       "    <tr>\n",
       "      <th>ACTOR IN A LEADING ROLE</th>\n",
       "      <td>225</td>\n",
       "    </tr>\n",
       "    <tr>\n",
       "      <th>ACTRESS IN A LEADING ROLE</th>\n",
       "      <td>225</td>\n",
       "    </tr>\n",
       "    <tr>\n",
       "      <th>MUSIC (Original Song)</th>\n",
       "      <td>220</td>\n",
       "    </tr>\n",
       "  </tbody>\n",
       "</table>\n",
       "</div>"
      ],
      "text/plain": [
       "                              category\n",
       "DIRECTING                          454\n",
       "FILM EDITING                       435\n",
       "ACTOR IN A SUPPORTING ROLE         425\n",
       "ACTRESS IN A SUPPORTING ROLE       425\n",
       "DOCUMENTARY (Short Subject)        373\n",
       "BEST PICTURE                       341\n",
       "DOCUMENTARY (Feature)              340\n",
       "CINEMATOGRAPHY                     323\n",
       "FOREIGN LANGUAGE FILM              315\n",
       "ART DIRECTION                      307\n",
       "COSTUME DESIGN                     280\n",
       "MUSIC (Original Score)             255\n",
       "ACTRESS                            236\n",
       "ACTOR                              232\n",
       "SOUND                              230\n",
       "ACTOR IN A LEADING ROLE            225\n",
       "ACTRESS IN A LEADING ROLE          225\n",
       "MUSIC (Original Song)              220"
      ]
     },
     "execution_count": 7,
     "metadata": {},
     "output_type": "execute_result"
    }
   ],
   "source": [
    "# df.category.unique()\n",
    "df2 = pd.DataFrame(df.category.value_counts())\n",
    "df2.head(18)\n",
    "#Just check. why 18? -- AMPAS has 17 brunch + everyone can vote Best Picture"
   ]
  },
  {
   "cell_type": "code",
   "execution_count": 8,
   "id": "23a0f4d2",
   "metadata": {},
   "outputs": [],
   "source": [
    "# df3 = pd.DataFrame(df.groupby(\"year_film\").sum()[\"winner\"])\n",
    "# df3.plot()"
   ]
  },
  {
   "cell_type": "code",
   "execution_count": 9,
   "id": "a56a5522",
   "metadata": {},
   "outputs": [],
   "source": [
    "# df[df.category == 'ACTOR IN A LEADING ROLE']"
   ]
  },
  {
   "cell_type": "code",
   "execution_count": 10,
   "id": "bf6f3e08",
   "metadata": {},
   "outputs": [
    {
     "data": {
      "text/plain": [
       "243"
      ]
     },
     "execution_count": 10,
     "metadata": {},
     "output_type": "execute_result"
    }
   ],
   "source": [
    "df4 = df[df.category == 'DIRECTING']\n",
    "len(df4.name.value_counts())"
   ]
  },
  {
   "cell_type": "code",
   "execution_count": 11,
   "id": "418207d3",
   "metadata": {
    "scrolled": true
   },
   "outputs": [
    {
     "data": {
      "text/html": [
       "<div>\n",
       "<style scoped>\n",
       "    .dataframe tbody tr th:only-of-type {\n",
       "        vertical-align: middle;\n",
       "    }\n",
       "\n",
       "    .dataframe tbody tr th {\n",
       "        vertical-align: top;\n",
       "    }\n",
       "\n",
       "    .dataframe thead th {\n",
       "        text-align: right;\n",
       "    }\n",
       "</style>\n",
       "<table border=\"1\" class=\"dataframe\">\n",
       "  <thead>\n",
       "    <tr style=\"text-align: right;\">\n",
       "      <th></th>\n",
       "      <th>nomination</th>\n",
       "    </tr>\n",
       "  </thead>\n",
       "  <tbody>\n",
       "    <tr>\n",
       "      <th>William Wyler</th>\n",
       "      <td>12</td>\n",
       "    </tr>\n",
       "    <tr>\n",
       "      <th>Martin Scorsese</th>\n",
       "      <td>9</td>\n",
       "    </tr>\n",
       "    <tr>\n",
       "      <th>Billy Wilder</th>\n",
       "      <td>8</td>\n",
       "    </tr>\n",
       "    <tr>\n",
       "      <th>David Lean</th>\n",
       "      <td>7</td>\n",
       "    </tr>\n",
       "    <tr>\n",
       "      <th>Woody Allen</th>\n",
       "      <td>7</td>\n",
       "    </tr>\n",
       "    <tr>\n",
       "      <th>Fred Zinnemann</th>\n",
       "      <td>7</td>\n",
       "    </tr>\n",
       "    <tr>\n",
       "      <th>Steven Spielberg</th>\n",
       "      <td>7</td>\n",
       "    </tr>\n",
       "    <tr>\n",
       "      <th>Frank Capra</th>\n",
       "      <td>6</td>\n",
       "    </tr>\n",
       "    <tr>\n",
       "      <th>Alfred Hitchcock</th>\n",
       "      <td>5</td>\n",
       "    </tr>\n",
       "    <tr>\n",
       "      <th>George Stevens</th>\n",
       "      <td>5</td>\n",
       "    </tr>\n",
       "  </tbody>\n",
       "</table>\n",
       "</div>"
      ],
      "text/plain": [
       "                  nomination\n",
       "William Wyler             12\n",
       "Martin Scorsese            9\n",
       "Billy Wilder               8\n",
       "David Lean                 7\n",
       "Woody Allen                7\n",
       "Fred Zinnemann             7\n",
       "Steven Spielberg           7\n",
       "Frank Capra                6\n",
       "Alfred Hitchcock           5\n",
       "George Stevens             5"
      ]
     },
     "execution_count": 11,
     "metadata": {},
     "output_type": "execute_result"
    }
   ],
   "source": [
    "df_nom_director = pd.DataFrame(df4.name.value_counts().nlargest(10)).rename(columns={\"name\": \"nomination\"})\n",
    "df_nom_director"
   ]
  },
  {
   "cell_type": "markdown",
   "id": "80fbe061",
   "metadata": {},
   "source": [
    "#### 243 people have been nominated to the DIRECTING award. Steven Spielberg has been nominated 7 times."
   ]
  },
  {
   "cell_type": "code",
   "execution_count": 12,
   "id": "aabaf122",
   "metadata": {},
   "outputs": [
    {
     "data": {
      "text/plain": [
       "70"
      ]
     },
     "execution_count": 12,
     "metadata": {},
     "output_type": "execute_result"
    }
   ],
   "source": [
    "df5 = df[(df.category == 'DIRECTING') & (df.winner == True)]\n",
    "len(df5.name.value_counts())"
   ]
  },
  {
   "cell_type": "code",
   "execution_count": 13,
   "id": "0d1b7648",
   "metadata": {},
   "outputs": [],
   "source": [
    "df_win_director = pd.DataFrame(df5.name.value_counts()).rename(columns={\"name\": \"win\"})"
   ]
  },
  {
   "cell_type": "code",
   "execution_count": 14,
   "id": "6ef5d747",
   "metadata": {},
   "outputs": [],
   "source": [
    "#df_win_director"
   ]
  },
  {
   "cell_type": "code",
   "execution_count": 15,
   "id": "b548ec90",
   "metadata": {},
   "outputs": [
    {
     "data": {
      "text/html": [
       "<div>\n",
       "<style scoped>\n",
       "    .dataframe tbody tr th:only-of-type {\n",
       "        vertical-align: middle;\n",
       "    }\n",
       "\n",
       "    .dataframe tbody tr th {\n",
       "        vertical-align: top;\n",
       "    }\n",
       "\n",
       "    .dataframe thead th {\n",
       "        text-align: right;\n",
       "    }\n",
       "</style>\n",
       "<table border=\"1\" class=\"dataframe\">\n",
       "  <thead>\n",
       "    <tr style=\"text-align: right;\">\n",
       "      <th></th>\n",
       "      <th>year_film</th>\n",
       "      <th>year_ceremony</th>\n",
       "      <th>ceremony</th>\n",
       "      <th>category</th>\n",
       "      <th>name</th>\n",
       "      <th>film</th>\n",
       "      <th>winner</th>\n",
       "      <th>distributor</th>\n",
       "    </tr>\n",
       "  </thead>\n",
       "  <tbody>\n",
       "    <tr>\n",
       "      <th>2654</th>\n",
       "      <td>1998</td>\n",
       "      <td>1999</td>\n",
       "      <td>71</td>\n",
       "      <td>DIRECTING</td>\n",
       "      <td>Steven Spielberg</td>\n",
       "      <td>Saving Private Ryan</td>\n",
       "      <td>True</td>\n",
       "      <td>NaN</td>\n",
       "    </tr>\n",
       "    <tr>\n",
       "      <th>3228</th>\n",
       "      <td>1993</td>\n",
       "      <td>1994</td>\n",
       "      <td>66</td>\n",
       "      <td>DIRECTING</td>\n",
       "      <td>Steven Spielberg</td>\n",
       "      <td>Schindler's List</td>\n",
       "      <td>True</td>\n",
       "      <td>NaN</td>\n",
       "    </tr>\n",
       "    <tr>\n",
       "      <th>4045</th>\n",
       "      <td>1986</td>\n",
       "      <td>1987</td>\n",
       "      <td>59</td>\n",
       "      <td>IRVING G. THALBERG MEMORIAL AWARD</td>\n",
       "      <td>Steven Spielberg</td>\n",
       "      <td>NaN</td>\n",
       "      <td>True</td>\n",
       "      <td>NaN</td>\n",
       "    </tr>\n",
       "  </tbody>\n",
       "</table>\n",
       "</div>"
      ],
      "text/plain": [
       "      year_film  year_ceremony  ceremony                           category  \\\n",
       "2654       1998           1999        71                          DIRECTING   \n",
       "3228       1993           1994        66                          DIRECTING   \n",
       "4045       1986           1987        59  IRVING G. THALBERG MEMORIAL AWARD   \n",
       "\n",
       "                  name                 film  winner distributor  \n",
       "2654  Steven Spielberg  Saving Private Ryan    True         NaN  \n",
       "3228  Steven Spielberg     Schindler's List    True         NaN  \n",
       "4045  Steven Spielberg                  NaN    True         NaN  "
      ]
     },
     "execution_count": 15,
     "metadata": {},
     "output_type": "execute_result"
    }
   ],
   "source": [
    "df[(df.name ==\"Steven Spielberg\") &(df.winner == True)]"
   ]
  },
  {
   "cell_type": "code",
   "execution_count": 16,
   "id": "1be54c52",
   "metadata": {},
   "outputs": [],
   "source": [
    "df_director = pd.concat([df_nom_director, df_win_director], axis=1, join=\"inner\")"
   ]
  },
  {
   "cell_type": "code",
   "execution_count": 17,
   "id": "931f159f",
   "metadata": {},
   "outputs": [],
   "source": [
    "df_director.to_csv('directing_award_ranking.csv')"
   ]
  },
  {
   "cell_type": "markdown",
   "id": "b93265d0",
   "metadata": {},
   "source": [
    "#### 70 people have won the DIRECTING award. Steven Spielberg has won it twice. He also got IRVING G. THALBERG MEMORIAL AWARD\tin 1986."
   ]
  },
  {
   "cell_type": "code",
   "execution_count": 18,
   "id": "b75d0c2a",
   "metadata": {},
   "outputs": [],
   "source": [
    "df6 = df[df.year_film >= 2011]\n",
    "# df6.info()\n",
    "# df6[df6.film.isna()]"
   ]
  },
  {
   "cell_type": "code",
   "execution_count": 19,
   "id": "3d88c16f",
   "metadata": {},
   "outputs": [
    {
     "name": "stdout",
     "output_type": "stream",
     "text": [
      "<class 'pandas.core.frame.DataFrame'>\n",
      "Int64Index: 1212 entries, 0 to 1248\n",
      "Data columns (total 8 columns):\n",
      " #   Column         Non-Null Count  Dtype \n",
      "---  ------         --------------  ----- \n",
      " 0   year_film      1212 non-null   int64 \n",
      " 1   year_ceremony  1212 non-null   int64 \n",
      " 2   ceremony       1212 non-null   int64 \n",
      " 3   category       1212 non-null   object\n",
      " 4   name           1212 non-null   object\n",
      " 5   film           1212 non-null   object\n",
      " 6   winner         1212 non-null   bool  \n",
      " 7   distributor    1212 non-null   object\n",
      "dtypes: bool(1), int64(3), object(4)\n",
      "memory usage: 76.9+ KB\n"
     ]
    }
   ],
   "source": [
    "df6 = df6.dropna(subset=['film'])      #remove special awards  \n",
    "df6.info()\n",
    "# df6.head()"
   ]
  },
  {
   "cell_type": "code",
   "execution_count": 20,
   "id": "3e5f9711",
   "metadata": {},
   "outputs": [
    {
     "data": {
      "text/plain": [
       "Amazon Studios                          22\n",
       "Amazon Studios and Cohen Media Group     1\n",
       "Name: distributor, dtype: int64"
      ]
     },
     "execution_count": 20,
     "metadata": {},
     "output_type": "execute_result"
    }
   ],
   "source": [
    "# df6.info()\n",
    "# df6.distributor.unique()\n",
    "# (df6['distributor'] == 'Amazon Studios').sum()\n",
    "# df6['distributor'].str.contains('Amazon').sum()\n",
    "df6[df6.distributor.str.contains('Amazon',na=False)].distributor.value_counts()"
   ]
  },
  {
   "cell_type": "code",
   "execution_count": 21,
   "id": "7ae38ed8",
   "metadata": {
    "scrolled": true
   },
   "outputs": [
    {
     "data": {
      "text/html": [
       "<div>\n",
       "<style scoped>\n",
       "    .dataframe tbody tr th:only-of-type {\n",
       "        vertical-align: middle;\n",
       "    }\n",
       "\n",
       "    .dataframe tbody tr th {\n",
       "        vertical-align: top;\n",
       "    }\n",
       "\n",
       "    .dataframe thead th {\n",
       "        text-align: right;\n",
       "    }\n",
       "</style>\n",
       "<table border=\"1\" class=\"dataframe\">\n",
       "  <thead>\n",
       "    <tr style=\"text-align: right;\">\n",
       "      <th></th>\n",
       "      <th>year_film</th>\n",
       "      <th>year_ceremony</th>\n",
       "      <th>ceremony</th>\n",
       "      <th>category</th>\n",
       "      <th>name</th>\n",
       "      <th>film</th>\n",
       "      <th>winner</th>\n",
       "      <th>distributor</th>\n",
       "    </tr>\n",
       "  </thead>\n",
       "  <tbody>\n",
       "    <tr>\n",
       "      <th>567</th>\n",
       "      <td>2016</td>\n",
       "      <td>2017</td>\n",
       "      <td>89</td>\n",
       "      <td>FOREIGN LANGUAGE FILM</td>\n",
       "      <td>Iran</td>\n",
       "      <td>The Salesman</td>\n",
       "      <td>True</td>\n",
       "      <td>Amazon Studios and Cohen Media Group</td>\n",
       "    </tr>\n",
       "  </tbody>\n",
       "</table>\n",
       "</div>"
      ],
      "text/plain": [
       "     year_film  year_ceremony  ceremony               category  name  \\\n",
       "567       2016           2017        89  FOREIGN LANGUAGE FILM  Iran   \n",
       "\n",
       "             film  winner                           distributor  \n",
       "567  The Salesman    True  Amazon Studios and Cohen Media Group  "
      ]
     },
     "execution_count": 21,
     "metadata": {},
     "output_type": "execute_result"
    }
   ],
   "source": [
    "df6[df6.distributor == 'Amazon Studios and Cohen Media Group']"
   ]
  },
  {
   "cell_type": "code",
   "execution_count": 22,
   "id": "e4ded4a8",
   "metadata": {},
   "outputs": [],
   "source": [
    "df6 = df6.replace( 'Amazon Studios and Cohen Media Group', 'Amazon Studios')"
   ]
  },
  {
   "cell_type": "code",
   "execution_count": 23,
   "id": "bb376a34",
   "metadata": {},
   "outputs": [
    {
     "data": {
      "text/plain": [
       "Netflix                                                                      88\n",
       "Netflix in association with Worldview Entertainment and Participant Media     1\n",
       "Name: distributor, dtype: int64"
      ]
     },
     "execution_count": 23,
     "metadata": {},
     "output_type": "execute_result"
    }
   ],
   "source": [
    "df6[df6.distributor.str.contains('Netflix',na=False)].distributor.value_counts()"
   ]
  },
  {
   "cell_type": "code",
   "execution_count": 24,
   "id": "a3d26d2a",
   "metadata": {
    "scrolled": true
   },
   "outputs": [
    {
     "data": {
      "text/html": [
       "<div>\n",
       "<style scoped>\n",
       "    .dataframe tbody tr th:only-of-type {\n",
       "        vertical-align: middle;\n",
       "    }\n",
       "\n",
       "    .dataframe tbody tr th {\n",
       "        vertical-align: top;\n",
       "    }\n",
       "\n",
       "    .dataframe thead th {\n",
       "        text-align: right;\n",
       "    }\n",
       "</style>\n",
       "<table border=\"1\" class=\"dataframe\">\n",
       "  <thead>\n",
       "    <tr style=\"text-align: right;\">\n",
       "      <th></th>\n",
       "      <th>year_film</th>\n",
       "      <th>year_ceremony</th>\n",
       "      <th>ceremony</th>\n",
       "      <th>category</th>\n",
       "      <th>name</th>\n",
       "      <th>film</th>\n",
       "      <th>winner</th>\n",
       "      <th>distributor</th>\n",
       "    </tr>\n",
       "  </thead>\n",
       "  <tbody>\n",
       "    <tr>\n",
       "      <th>928</th>\n",
       "      <td>2013</td>\n",
       "      <td>2014</td>\n",
       "      <td>86</td>\n",
       "      <td>DOCUMENTARY (Feature)</td>\n",
       "      <td>Jehane Noujaim and Karim Amer</td>\n",
       "      <td>The Square</td>\n",
       "      <td>False</td>\n",
       "      <td>Netflix in association with Worldview Entertai...</td>\n",
       "    </tr>\n",
       "  </tbody>\n",
       "</table>\n",
       "</div>"
      ],
      "text/plain": [
       "     year_film  year_ceremony  ceremony               category  \\\n",
       "928       2013           2014        86  DOCUMENTARY (Feature)   \n",
       "\n",
       "                              name        film  winner  \\\n",
       "928  Jehane Noujaim and Karim Amer  The Square   False   \n",
       "\n",
       "                                           distributor  \n",
       "928  Netflix in association with Worldview Entertai...  "
      ]
     },
     "execution_count": 24,
     "metadata": {},
     "output_type": "execute_result"
    }
   ],
   "source": [
    "df6[df6.distributor == 'Netflix in association with Worldview Entertainment and Participant Media']"
   ]
  },
  {
   "cell_type": "code",
   "execution_count": 25,
   "id": "9cf9a3da",
   "metadata": {
    "scrolled": true
   },
   "outputs": [],
   "source": [
    "df6 = df6.replace('Netflix in association with Worldview Entertainment and Participant Media', 'Netflix')"
   ]
  },
  {
   "cell_type": "code",
   "execution_count": 26,
   "id": "50b4ec50",
   "metadata": {},
   "outputs": [
    {
     "data": {
      "text/plain": [
       "Apple/GKIDS    1\n",
       "Apple          1\n",
       "Name: distributor, dtype: int64"
      ]
     },
     "execution_count": 26,
     "metadata": {},
     "output_type": "execute_result"
    }
   ],
   "source": [
    "df6[df6.distributor.str.contains('Apple',na=False)].distributor.value_counts()"
   ]
  },
  {
   "cell_type": "code",
   "execution_count": 27,
   "id": "6791e242",
   "metadata": {
    "scrolled": true
   },
   "outputs": [
    {
     "data": {
      "text/html": [
       "<div>\n",
       "<style scoped>\n",
       "    .dataframe tbody tr th:only-of-type {\n",
       "        vertical-align: middle;\n",
       "    }\n",
       "\n",
       "    .dataframe tbody tr th {\n",
       "        vertical-align: top;\n",
       "    }\n",
       "\n",
       "    .dataframe thead th {\n",
       "        text-align: right;\n",
       "    }\n",
       "</style>\n",
       "<table border=\"1\" class=\"dataframe\">\n",
       "  <thead>\n",
       "    <tr style=\"text-align: right;\">\n",
       "      <th></th>\n",
       "      <th>year_film</th>\n",
       "      <th>year_ceremony</th>\n",
       "      <th>ceremony</th>\n",
       "      <th>category</th>\n",
       "      <th>name</th>\n",
       "      <th>film</th>\n",
       "      <th>winner</th>\n",
       "      <th>distributor</th>\n",
       "    </tr>\n",
       "  </thead>\n",
       "  <tbody>\n",
       "    <tr>\n",
       "      <th>24</th>\n",
       "      <td>2020</td>\n",
       "      <td>2021</td>\n",
       "      <td>93</td>\n",
       "      <td>ANIMATED FEATURE FILM</td>\n",
       "      <td>Tomm Moore, Ross Stewart, Paul Young and Stéph...</td>\n",
       "      <td>Wolfwalkers</td>\n",
       "      <td>False</td>\n",
       "      <td>Apple/GKIDS</td>\n",
       "    </tr>\n",
       "  </tbody>\n",
       "</table>\n",
       "</div>"
      ],
      "text/plain": [
       "    year_film  year_ceremony  ceremony               category  \\\n",
       "24       2020           2021        93  ANIMATED FEATURE FILM   \n",
       "\n",
       "                                                 name         film  winner  \\\n",
       "24  Tomm Moore, Ross Stewart, Paul Young and Stéph...  Wolfwalkers   False   \n",
       "\n",
       "    distributor  \n",
       "24  Apple/GKIDS  "
      ]
     },
     "execution_count": 27,
     "metadata": {},
     "output_type": "execute_result"
    }
   ],
   "source": [
    "df6[df6.distributor == 'Apple/GKIDS']"
   ]
  },
  {
   "cell_type": "code",
   "execution_count": 28,
   "id": "d743b6ec",
   "metadata": {},
   "outputs": [],
   "source": [
    "df6 = df6.replace('Apple/GKIDS', 'Apple')"
   ]
  },
  {
   "cell_type": "code",
   "execution_count": 29,
   "id": "74c5dddf",
   "metadata": {},
   "outputs": [
    {
     "data": {
      "text/plain": [
       "Hulu    2\n",
       "Name: distributor, dtype: int64"
      ]
     },
     "execution_count": 29,
     "metadata": {},
     "output_type": "execute_result"
    }
   ],
   "source": [
    "df6[df6.distributor.str.contains('Hulu',na=False)].distributor.value_counts()"
   ]
  },
  {
   "cell_type": "code",
   "execution_count": 30,
   "id": "28e34741",
   "metadata": {},
   "outputs": [],
   "source": [
    "# (df6['distributor'] == 'Amazon Studios').sum()\n",
    "# (df6['distributor'] == 'Netflix').sum()\n",
    "# (df6['distributor'] == 'Apple').sum()"
   ]
  },
  {
   "cell_type": "code",
   "execution_count": 31,
   "id": "50ffc795",
   "metadata": {},
   "outputs": [],
   "source": [
    "df7 = df6[['year_film','distributor','winner']]"
   ]
  },
  {
   "cell_type": "code",
   "execution_count": 32,
   "id": "3f542c1d",
   "metadata": {},
   "outputs": [
    {
     "data": {
      "text/html": [
       "<div>\n",
       "<style scoped>\n",
       "    .dataframe tbody tr th:only-of-type {\n",
       "        vertical-align: middle;\n",
       "    }\n",
       "\n",
       "    .dataframe tbody tr th {\n",
       "        vertical-align: top;\n",
       "    }\n",
       "\n",
       "    .dataframe thead th {\n",
       "        text-align: right;\n",
       "    }\n",
       "</style>\n",
       "<table border=\"1\" class=\"dataframe\">\n",
       "  <thead>\n",
       "    <tr style=\"text-align: right;\">\n",
       "      <th></th>\n",
       "      <th>distributor</th>\n",
       "      <th>winner</th>\n",
       "    </tr>\n",
       "    <tr>\n",
       "      <th>year_film</th>\n",
       "      <th></th>\n",
       "      <th></th>\n",
       "    </tr>\n",
       "  </thead>\n",
       "  <tbody>\n",
       "    <tr>\n",
       "      <th>2020</th>\n",
       "      <td>Netflix</td>\n",
       "      <td>False</td>\n",
       "    </tr>\n",
       "    <tr>\n",
       "      <th>2020</th>\n",
       "      <td>Netflix</td>\n",
       "      <td>False</td>\n",
       "    </tr>\n",
       "    <tr>\n",
       "      <th>2020</th>\n",
       "      <td>A24</td>\n",
       "      <td>False</td>\n",
       "    </tr>\n",
       "    <tr>\n",
       "      <th>2020</th>\n",
       "      <td>Amazon Studios</td>\n",
       "      <td>False</td>\n",
       "    </tr>\n",
       "    <tr>\n",
       "      <th>2020</th>\n",
       "      <td>Sony Pictures Classics</td>\n",
       "      <td>True</td>\n",
       "    </tr>\n",
       "    <tr>\n",
       "      <th>...</th>\n",
       "      <td>...</td>\n",
       "      <td>...</td>\n",
       "    </tr>\n",
       "    <tr>\n",
       "      <th>2011</th>\n",
       "      <td>Sony Pictures Classics</td>\n",
       "      <td>False</td>\n",
       "    </tr>\n",
       "    <tr>\n",
       "      <th>2011</th>\n",
       "      <td>Universal</td>\n",
       "      <td>False</td>\n",
       "    </tr>\n",
       "    <tr>\n",
       "      <th>2011</th>\n",
       "      <td>Roadside Attractions</td>\n",
       "      <td>False</td>\n",
       "    </tr>\n",
       "    <tr>\n",
       "      <th>2011</th>\n",
       "      <td>Sony Pictures Classics</td>\n",
       "      <td>True</td>\n",
       "    </tr>\n",
       "    <tr>\n",
       "      <th>2011</th>\n",
       "      <td>The Weinstein Company</td>\n",
       "      <td>False</td>\n",
       "    </tr>\n",
       "  </tbody>\n",
       "</table>\n",
       "<p>1212 rows × 2 columns</p>\n",
       "</div>"
      ],
      "text/plain": [
       "                      distributor  winner\n",
       "year_film                                \n",
       "2020                      Netflix   False\n",
       "2020                      Netflix   False\n",
       "2020                          A24   False\n",
       "2020               Amazon Studios   False\n",
       "2020       Sony Pictures Classics    True\n",
       "...                           ...     ...\n",
       "2011       Sony Pictures Classics   False\n",
       "2011                    Universal   False\n",
       "2011         Roadside Attractions   False\n",
       "2011       Sony Pictures Classics    True\n",
       "2011        The Weinstein Company   False\n",
       "\n",
       "[1212 rows x 2 columns]"
      ]
     },
     "execution_count": 32,
     "metadata": {},
     "output_type": "execute_result"
    }
   ],
   "source": [
    "df7.set_index('year_film')"
   ]
  },
  {
   "cell_type": "code",
   "execution_count": 33,
   "id": "15ff7ab6",
   "metadata": {},
   "outputs": [],
   "source": [
    "# df7.info()"
   ]
  },
  {
   "cell_type": "code",
   "execution_count": 34,
   "id": "98daaabd",
   "metadata": {},
   "outputs": [],
   "source": [
    "total_nom = df7.year_film.value_counts().sort_index(ascending=False).reset_index().rename(columns={\"year_film\": \"total_nom\"})"
   ]
  },
  {
   "cell_type": "code",
   "execution_count": 35,
   "id": "240d4629",
   "metadata": {},
   "outputs": [],
   "source": [
    "total_win = df7[df7.winner == True].year_film.value_counts().sort_index(ascending=False).reset_index().rename(columns={\"year_film\": \"total_win\"})"
   ]
  },
  {
   "cell_type": "code",
   "execution_count": 36,
   "id": "eca2f0b1",
   "metadata": {
    "scrolled": true
   },
   "outputs": [],
   "source": [
    "netflix_nom = df7[df7.distributor == 'Netflix'].year_film.value_counts().sort_index(ascending=False).reset_index().rename(columns={\"year_film\": \"netflix_nom\"})"
   ]
  },
  {
   "cell_type": "code",
   "execution_count": 37,
   "id": "98cd22b4",
   "metadata": {
    "scrolled": true
   },
   "outputs": [],
   "source": [
    "netflix_win = df7[(df7.distributor == 'Netflix') & (df7.winner == True)].year_film.value_counts().sort_index(ascending=False).reset_index().rename(columns={\"year_film\": \"netflix_win\"})"
   ]
  },
  {
   "cell_type": "code",
   "execution_count": 38,
   "id": "baa16c2f",
   "metadata": {},
   "outputs": [],
   "source": [
    "amazon_nom = df7[df7.distributor == 'Amazon Studios'].year_film.value_counts().sort_index(ascending=False).reset_index().rename(columns={\"year_film\": \"amazon_nom\"})"
   ]
  },
  {
   "cell_type": "code",
   "execution_count": 39,
   "id": "c447b7d6",
   "metadata": {},
   "outputs": [],
   "source": [
    "amazon_win = df7[(df7.distributor == 'Amazon Studios') & (df7.winner == True)].year_film.value_counts().sort_index(ascending=False).reset_index().rename(columns={\"year_film\": \"amazon_win\"})"
   ]
  },
  {
   "cell_type": "code",
   "execution_count": 40,
   "id": "7ae92a99",
   "metadata": {},
   "outputs": [],
   "source": [
    "apple_nom = df7[df7.distributor == 'Apple'].year_film.value_counts().sort_index(ascending=False).reset_index().rename(columns={\"year_film\": \"apple_nom\"})"
   ]
  },
  {
   "cell_type": "code",
   "execution_count": 41,
   "id": "3643de69",
   "metadata": {},
   "outputs": [
    {
     "data": {
      "text/plain": [
       "Series([], Name: year_film, dtype: int64)"
      ]
     },
     "execution_count": 41,
     "metadata": {},
     "output_type": "execute_result"
    }
   ],
   "source": [
    "df7[(df7.distributor == 'Apple') & (df7.winner == True)].year_film.value_counts().sort_index(ascending=False)"
   ]
  },
  {
   "cell_type": "code",
   "execution_count": 42,
   "id": "32cedb04",
   "metadata": {},
   "outputs": [],
   "source": [
    "hulu_nom = df7[df7.distributor == 'Hulu'].year_film.value_counts().sort_index(ascending=False).reset_index().rename(columns={\"year_film\": \"hulu_nom\"})"
   ]
  },
  {
   "cell_type": "code",
   "execution_count": 43,
   "id": "d7eaa1d0",
   "metadata": {},
   "outputs": [
    {
     "data": {
      "text/plain": [
       "Series([], Name: year_film, dtype: int64)"
      ]
     },
     "execution_count": 43,
     "metadata": {},
     "output_type": "execute_result"
    }
   ],
   "source": [
    "df7[(df7.distributor == 'Hulu') & (df7.winner == True)].year_film.value_counts().sort_index(ascending=False)"
   ]
  },
  {
   "cell_type": "code",
   "execution_count": 44,
   "id": "7feadd92",
   "metadata": {},
   "outputs": [],
   "source": [
    "df_oscars = pd.merge(total_nom, total_win).merge(netflix_nom, how='outer').merge(netflix_win, how='outer').merge(amazon_nom,how='outer').merge(amazon_win, how='outer').merge(apple_nom, how='outer').merge(hulu_nom,how='outer')"
   ]
  },
  {
   "cell_type": "code",
   "execution_count": 45,
   "id": "c264e4ce",
   "metadata": {},
   "outputs": [],
   "source": [
    "df_oscars = df_oscars.rename(columns={\"index\": \"year_film\"}).set_index(\"year_film\").fillna(0).astype('int')"
   ]
  },
  {
   "cell_type": "code",
   "execution_count": 46,
   "id": "9e4b29c3",
   "metadata": {},
   "outputs": [],
   "source": [
    "df_oscars['streamers_nom'] = df_oscars['netflix_nom'] + df_oscars['amazon_nom'] + df_oscars['apple_nom'] + df_oscars['hulu_nom']"
   ]
  },
  {
   "cell_type": "code",
   "execution_count": 47,
   "id": "fd29e057",
   "metadata": {},
   "outputs": [],
   "source": [
    "df_oscars['streamers_win'] = df_oscars['netflix_win'] + df_oscars['amazon_win'] "
   ]
  },
  {
   "cell_type": "code",
   "execution_count": 48,
   "id": "ca0e9e3b",
   "metadata": {},
   "outputs": [],
   "source": [
    "df_oscars['classic_nom'] = df_oscars['total_nom'] - df_oscars['streamers_nom']"
   ]
  },
  {
   "cell_type": "code",
   "execution_count": 49,
   "id": "d2fabdb0",
   "metadata": {},
   "outputs": [],
   "source": [
    "df_oscars['classic_win'] = df_oscars['total_win'] - df_oscars['streamers_win']"
   ]
  },
  {
   "cell_type": "code",
   "execution_count": 50,
   "id": "79653e1c",
   "metadata": {},
   "outputs": [],
   "source": [
    "#Netflix's batting average(%) \n",
    "df_oscars['netflix_ba'] = df_oscars['netflix_win'] / df_oscars['netflix_nom']*100"
   ]
  },
  {
   "cell_type": "code",
   "execution_count": 51,
   "id": "33f59ec5",
   "metadata": {},
   "outputs": [],
   "source": [
    "#Amazon's batting average(%) \n",
    "df_oscars['amazon_ba'] = df_oscars['amazon_win'] / df_oscars['amazon_nom']*100"
   ]
  },
  {
   "cell_type": "code",
   "execution_count": 52,
   "id": "894e3830",
   "metadata": {},
   "outputs": [],
   "source": [
    "#total batting average(%)\n",
    "df_oscars['total_ba'] = df_oscars['total_win'] / df_oscars['total_nom']*100"
   ]
  },
  {
   "cell_type": "code",
   "execution_count": 204,
   "id": "e703fbea",
   "metadata": {},
   "outputs": [],
   "source": [
    "df_oscars['classic_nom_rate'] = df_oscars['classic_nom'] / df_oscars['total_nom']*100"
   ]
  },
  {
   "cell_type": "code",
   "execution_count": 203,
   "id": "5a664b59",
   "metadata": {},
   "outputs": [],
   "source": [
    "df_oscars['streamers_nom_rate'] = df_oscars['streamers_nom'] / df_oscars['total_nom']*100"
   ]
  },
  {
   "cell_type": "code",
   "execution_count": 205,
   "id": "7a4a30cd",
   "metadata": {},
   "outputs": [],
   "source": [
    "df_oscars['classic_win_rate'] = df_oscars['classic_win'] / df_oscars['total_win']*100"
   ]
  },
  {
   "cell_type": "code",
   "execution_count": 206,
   "id": "865f273a",
   "metadata": {},
   "outputs": [],
   "source": [
    "df_oscars['streamers_win_rate'] = df_oscars['streamers_win'] / df_oscars['total_win']*100"
   ]
  },
  {
   "cell_type": "code",
   "execution_count": 207,
   "id": "b32ab500",
   "metadata": {},
   "outputs": [
    {
     "data": {
      "text/html": [
       "<div>\n",
       "<style scoped>\n",
       "    .dataframe tbody tr th:only-of-type {\n",
       "        vertical-align: middle;\n",
       "    }\n",
       "\n",
       "    .dataframe tbody tr th {\n",
       "        vertical-align: top;\n",
       "    }\n",
       "\n",
       "    .dataframe thead th {\n",
       "        text-align: right;\n",
       "    }\n",
       "</style>\n",
       "<table border=\"1\" class=\"dataframe\">\n",
       "  <thead>\n",
       "    <tr style=\"text-align: right;\">\n",
       "      <th></th>\n",
       "      <th>total_nom</th>\n",
       "      <th>total_win</th>\n",
       "      <th>netflix_nom</th>\n",
       "      <th>netflix_win</th>\n",
       "      <th>amazon_nom</th>\n",
       "      <th>amazon_win</th>\n",
       "      <th>apple_nom</th>\n",
       "      <th>hulu_nom</th>\n",
       "      <th>streamers_nom</th>\n",
       "      <th>streamers_win</th>\n",
       "      <th>classic_nom</th>\n",
       "      <th>classic_win</th>\n",
       "      <th>netflix_ba</th>\n",
       "      <th>amazon_ba</th>\n",
       "      <th>total_ba</th>\n",
       "      <th>classic_nom_rate</th>\n",
       "      <th>streamers_nom_rate</th>\n",
       "      <th>classic_win_rate</th>\n",
       "      <th>streamers_win_rate</th>\n",
       "    </tr>\n",
       "    <tr>\n",
       "      <th>year_film</th>\n",
       "      <th></th>\n",
       "      <th></th>\n",
       "      <th></th>\n",
       "      <th></th>\n",
       "      <th></th>\n",
       "      <th></th>\n",
       "      <th></th>\n",
       "      <th></th>\n",
       "      <th></th>\n",
       "      <th></th>\n",
       "      <th></th>\n",
       "      <th></th>\n",
       "      <th></th>\n",
       "      <th></th>\n",
       "      <th></th>\n",
       "      <th></th>\n",
       "      <th></th>\n",
       "      <th></th>\n",
       "      <th></th>\n",
       "    </tr>\n",
       "  </thead>\n",
       "  <tbody>\n",
       "    <tr>\n",
       "      <th>2020</th>\n",
       "      <td>118</td>\n",
       "      <td>23</td>\n",
       "      <td>35</td>\n",
       "      <td>6</td>\n",
       "      <td>12</td>\n",
       "      <td>2</td>\n",
       "      <td>2</td>\n",
       "      <td>2</td>\n",
       "      <td>51</td>\n",
       "      <td>8</td>\n",
       "      <td>67</td>\n",
       "      <td>15</td>\n",
       "      <td>17.142857</td>\n",
       "      <td>16.666667</td>\n",
       "      <td>19.491525</td>\n",
       "      <td>56.779661</td>\n",
       "      <td>43.220339</td>\n",
       "      <td>65.217391</td>\n",
       "      <td>34.782609</td>\n",
       "    </tr>\n",
       "    <tr>\n",
       "      <th>2019</th>\n",
       "      <td>124</td>\n",
       "      <td>24</td>\n",
       "      <td>24</td>\n",
       "      <td>2</td>\n",
       "      <td>0</td>\n",
       "      <td>0</td>\n",
       "      <td>0</td>\n",
       "      <td>0</td>\n",
       "      <td>24</td>\n",
       "      <td>2</td>\n",
       "      <td>100</td>\n",
       "      <td>22</td>\n",
       "      <td>8.333333</td>\n",
       "      <td>NaN</td>\n",
       "      <td>19.354839</td>\n",
       "      <td>80.645161</td>\n",
       "      <td>19.354839</td>\n",
       "      <td>91.666667</td>\n",
       "      <td>8.333333</td>\n",
       "    </tr>\n",
       "    <tr>\n",
       "      <th>2018</th>\n",
       "      <td>121</td>\n",
       "      <td>24</td>\n",
       "      <td>15</td>\n",
       "      <td>4</td>\n",
       "      <td>3</td>\n",
       "      <td>0</td>\n",
       "      <td>0</td>\n",
       "      <td>0</td>\n",
       "      <td>18</td>\n",
       "      <td>4</td>\n",
       "      <td>103</td>\n",
       "      <td>20</td>\n",
       "      <td>26.666667</td>\n",
       "      <td>0.000000</td>\n",
       "      <td>19.834711</td>\n",
       "      <td>85.123967</td>\n",
       "      <td>14.876033</td>\n",
       "      <td>83.333333</td>\n",
       "      <td>16.666667</td>\n",
       "    </tr>\n",
       "    <tr>\n",
       "      <th>2017</th>\n",
       "      <td>122</td>\n",
       "      <td>24</td>\n",
       "      <td>8</td>\n",
       "      <td>1</td>\n",
       "      <td>1</td>\n",
       "      <td>0</td>\n",
       "      <td>0</td>\n",
       "      <td>0</td>\n",
       "      <td>9</td>\n",
       "      <td>1</td>\n",
       "      <td>113</td>\n",
       "      <td>23</td>\n",
       "      <td>12.500000</td>\n",
       "      <td>0.000000</td>\n",
       "      <td>19.672131</td>\n",
       "      <td>92.622951</td>\n",
       "      <td>7.377049</td>\n",
       "      <td>95.833333</td>\n",
       "      <td>4.166667</td>\n",
       "    </tr>\n",
       "    <tr>\n",
       "      <th>2016</th>\n",
       "      <td>122</td>\n",
       "      <td>24</td>\n",
       "      <td>3</td>\n",
       "      <td>1</td>\n",
       "      <td>7</td>\n",
       "      <td>3</td>\n",
       "      <td>0</td>\n",
       "      <td>0</td>\n",
       "      <td>10</td>\n",
       "      <td>4</td>\n",
       "      <td>112</td>\n",
       "      <td>20</td>\n",
       "      <td>33.333333</td>\n",
       "      <td>42.857143</td>\n",
       "      <td>19.672131</td>\n",
       "      <td>91.803279</td>\n",
       "      <td>8.196721</td>\n",
       "      <td>83.333333</td>\n",
       "      <td>16.666667</td>\n",
       "    </tr>\n",
       "    <tr>\n",
       "      <th>2015</th>\n",
       "      <td>121</td>\n",
       "      <td>24</td>\n",
       "      <td>2</td>\n",
       "      <td>0</td>\n",
       "      <td>0</td>\n",
       "      <td>0</td>\n",
       "      <td>0</td>\n",
       "      <td>0</td>\n",
       "      <td>2</td>\n",
       "      <td>0</td>\n",
       "      <td>119</td>\n",
       "      <td>24</td>\n",
       "      <td>0.000000</td>\n",
       "      <td>NaN</td>\n",
       "      <td>19.834711</td>\n",
       "      <td>98.347107</td>\n",
       "      <td>1.652893</td>\n",
       "      <td>100.000000</td>\n",
       "      <td>0.000000</td>\n",
       "    </tr>\n",
       "    <tr>\n",
       "      <th>2014</th>\n",
       "      <td>121</td>\n",
       "      <td>24</td>\n",
       "      <td>1</td>\n",
       "      <td>0</td>\n",
       "      <td>0</td>\n",
       "      <td>0</td>\n",
       "      <td>0</td>\n",
       "      <td>0</td>\n",
       "      <td>1</td>\n",
       "      <td>0</td>\n",
       "      <td>120</td>\n",
       "      <td>24</td>\n",
       "      <td>0.000000</td>\n",
       "      <td>NaN</td>\n",
       "      <td>19.834711</td>\n",
       "      <td>99.173554</td>\n",
       "      <td>0.826446</td>\n",
       "      <td>100.000000</td>\n",
       "      <td>0.000000</td>\n",
       "    </tr>\n",
       "    <tr>\n",
       "      <th>2013</th>\n",
       "      <td>122</td>\n",
       "      <td>24</td>\n",
       "      <td>1</td>\n",
       "      <td>0</td>\n",
       "      <td>0</td>\n",
       "      <td>0</td>\n",
       "      <td>0</td>\n",
       "      <td>0</td>\n",
       "      <td>1</td>\n",
       "      <td>0</td>\n",
       "      <td>121</td>\n",
       "      <td>24</td>\n",
       "      <td>0.000000</td>\n",
       "      <td>NaN</td>\n",
       "      <td>19.672131</td>\n",
       "      <td>99.180328</td>\n",
       "      <td>0.819672</td>\n",
       "      <td>100.000000</td>\n",
       "      <td>0.000000</td>\n",
       "    </tr>\n",
       "    <tr>\n",
       "      <th>2012</th>\n",
       "      <td>122</td>\n",
       "      <td>25</td>\n",
       "      <td>0</td>\n",
       "      <td>0</td>\n",
       "      <td>0</td>\n",
       "      <td>0</td>\n",
       "      <td>0</td>\n",
       "      <td>0</td>\n",
       "      <td>0</td>\n",
       "      <td>0</td>\n",
       "      <td>122</td>\n",
       "      <td>25</td>\n",
       "      <td>NaN</td>\n",
       "      <td>NaN</td>\n",
       "      <td>20.491803</td>\n",
       "      <td>100.000000</td>\n",
       "      <td>0.000000</td>\n",
       "      <td>100.000000</td>\n",
       "      <td>0.000000</td>\n",
       "    </tr>\n",
       "    <tr>\n",
       "      <th>2011</th>\n",
       "      <td>119</td>\n",
       "      <td>24</td>\n",
       "      <td>0</td>\n",
       "      <td>0</td>\n",
       "      <td>0</td>\n",
       "      <td>0</td>\n",
       "      <td>0</td>\n",
       "      <td>0</td>\n",
       "      <td>0</td>\n",
       "      <td>0</td>\n",
       "      <td>119</td>\n",
       "      <td>24</td>\n",
       "      <td>NaN</td>\n",
       "      <td>NaN</td>\n",
       "      <td>20.168067</td>\n",
       "      <td>100.000000</td>\n",
       "      <td>0.000000</td>\n",
       "      <td>100.000000</td>\n",
       "      <td>0.000000</td>\n",
       "    </tr>\n",
       "  </tbody>\n",
       "</table>\n",
       "</div>"
      ],
      "text/plain": [
       "           total_nom  total_win  netflix_nom  netflix_win  amazon_nom  \\\n",
       "year_film                                                               \n",
       "2020             118         23           35            6          12   \n",
       "2019             124         24           24            2           0   \n",
       "2018             121         24           15            4           3   \n",
       "2017             122         24            8            1           1   \n",
       "2016             122         24            3            1           7   \n",
       "2015             121         24            2            0           0   \n",
       "2014             121         24            1            0           0   \n",
       "2013             122         24            1            0           0   \n",
       "2012             122         25            0            0           0   \n",
       "2011             119         24            0            0           0   \n",
       "\n",
       "           amazon_win  apple_nom  hulu_nom  streamers_nom  streamers_win  \\\n",
       "year_film                                                                  \n",
       "2020                2          2         2             51              8   \n",
       "2019                0          0         0             24              2   \n",
       "2018                0          0         0             18              4   \n",
       "2017                0          0         0              9              1   \n",
       "2016                3          0         0             10              4   \n",
       "2015                0          0         0              2              0   \n",
       "2014                0          0         0              1              0   \n",
       "2013                0          0         0              1              0   \n",
       "2012                0          0         0              0              0   \n",
       "2011                0          0         0              0              0   \n",
       "\n",
       "           classic_nom  classic_win  netflix_ba  amazon_ba   total_ba  \\\n",
       "year_film                                                               \n",
       "2020                67           15   17.142857  16.666667  19.491525   \n",
       "2019               100           22    8.333333        NaN  19.354839   \n",
       "2018               103           20   26.666667   0.000000  19.834711   \n",
       "2017               113           23   12.500000   0.000000  19.672131   \n",
       "2016               112           20   33.333333  42.857143  19.672131   \n",
       "2015               119           24    0.000000        NaN  19.834711   \n",
       "2014               120           24    0.000000        NaN  19.834711   \n",
       "2013               121           24    0.000000        NaN  19.672131   \n",
       "2012               122           25         NaN        NaN  20.491803   \n",
       "2011               119           24         NaN        NaN  20.168067   \n",
       "\n",
       "           classic_nom_rate  streamers_nom_rate  classic_win_rate  \\\n",
       "year_film                                                           \n",
       "2020              56.779661           43.220339         65.217391   \n",
       "2019              80.645161           19.354839         91.666667   \n",
       "2018              85.123967           14.876033         83.333333   \n",
       "2017              92.622951            7.377049         95.833333   \n",
       "2016              91.803279            8.196721         83.333333   \n",
       "2015              98.347107            1.652893        100.000000   \n",
       "2014              99.173554            0.826446        100.000000   \n",
       "2013              99.180328            0.819672        100.000000   \n",
       "2012             100.000000            0.000000        100.000000   \n",
       "2011             100.000000            0.000000        100.000000   \n",
       "\n",
       "           streamers_win_rate  \n",
       "year_film                      \n",
       "2020                34.782609  \n",
       "2019                 8.333333  \n",
       "2018                16.666667  \n",
       "2017                 4.166667  \n",
       "2016                16.666667  \n",
       "2015                 0.000000  \n",
       "2014                 0.000000  \n",
       "2013                 0.000000  \n",
       "2012                 0.000000  \n",
       "2011                 0.000000  "
      ]
     },
     "execution_count": 207,
     "metadata": {},
     "output_type": "execute_result"
    }
   ],
   "source": [
    "df_oscars.head(10)"
   ]
  },
  {
   "cell_type": "code",
   "execution_count": null,
   "id": "b6a58f21",
   "metadata": {},
   "outputs": [],
   "source": []
  },
  {
   "cell_type": "code",
   "execution_count": 208,
   "id": "f808bc7d",
   "metadata": {},
   "outputs": [],
   "source": [
    "df_oscars.to_csv(\"oscars_streaming.csv\")"
   ]
  },
  {
   "cell_type": "code",
   "execution_count": 209,
   "id": "e11fa31b",
   "metadata": {},
   "outputs": [
    {
     "name": "stdout",
     "output_type": "stream",
     "text": [
      "<class 'pandas.core.frame.DataFrame'>\n",
      "Int64Index: 10 entries, 2020 to 2011\n",
      "Data columns (total 19 columns):\n",
      " #   Column              Non-Null Count  Dtype  \n",
      "---  ------              --------------  -----  \n",
      " 0   total_nom           10 non-null     int64  \n",
      " 1   total_win           10 non-null     int64  \n",
      " 2   netflix_nom         10 non-null     int64  \n",
      " 3   netflix_win         10 non-null     int64  \n",
      " 4   amazon_nom          10 non-null     int64  \n",
      " 5   amazon_win          10 non-null     int64  \n",
      " 6   apple_nom           10 non-null     int64  \n",
      " 7   hulu_nom            10 non-null     int64  \n",
      " 8   streamers_nom       10 non-null     int64  \n",
      " 9   streamers_win       10 non-null     int64  \n",
      " 10  classic_nom         10 non-null     int64  \n",
      " 11  classic_win         10 non-null     int64  \n",
      " 12  netflix_ba          8 non-null      float64\n",
      " 13  amazon_ba           4 non-null      float64\n",
      " 14  total_ba            10 non-null     float64\n",
      " 15  classic_nom_rate    10 non-null     float64\n",
      " 16  streamers_nom_rate  10 non-null     float64\n",
      " 17  classic_win_rate    10 non-null     float64\n",
      " 18  streamers_win_rate  10 non-null     float64\n",
      "dtypes: float64(7), int64(12)\n",
      "memory usage: 1.9 KB\n"
     ]
    }
   ],
   "source": [
    "df_oscars.info()"
   ]
  },
  {
   "cell_type": "code",
   "execution_count": 56,
   "id": "3d1e52db",
   "metadata": {},
   "outputs": [
    {
     "data": {
      "text/plain": [
       "<AxesSubplot:xlabel='year_film'>"
      ]
     },
     "execution_count": 56,
     "metadata": {},
     "output_type": "execute_result"
    },
    {
     "data": {
      "image/png": "[encoded data removed]",
      "text/plain": [
       "<Figure size 432x288 with 1 Axes>"
      ]
     },
     "metadata": {},
     "output_type": "display_data"
    }
   ],
   "source": [
    "df_oscars[['netflix_nom','amazon_nom','apple_nom','hulu_nom']].plot(kind=\"bar\", stacked = True)"
   ]
  },
  {
   "cell_type": "code",
   "execution_count": 211,
   "id": "4616ab12",
   "metadata": {},
   "outputs": [
    {
     "data": {
      "text/plain": [
       "<AxesSubplot:xlabel='year_film'>"
      ]
     },
     "execution_count": 211,
     "metadata": {},
     "output_type": "execute_result"
    },
    {
     "data": {
      "image/png": "[encoded data removed]",
      "text/plain": [
       "<Figure size 432x288 with 1 Axes>"
      ]
     },
     "metadata": {},
     "output_type": "display_data"
    }
   ],
   "source": [
    "df_oscars[['classic_nom_rate','streamers_nom_rate']].plot()"
   ]
  },
  {
   "cell_type": "code",
   "execution_count": 212,
   "id": "867a25d4",
   "metadata": {},
   "outputs": [
    {
     "data": {
      "text/plain": [
       "<AxesSubplot:xlabel='year_film'>"
      ]
     },
     "execution_count": 212,
     "metadata": {},
     "output_type": "execute_result"
    },
    {
     "data": {
      "image/png": "[encoded data removed]",
      "text/plain": [
       "<Figure size 432x288 with 1 Axes>"
      ]
     },
     "metadata": {},
     "output_type": "display_data"
    }
   ],
   "source": [
    "df_oscars[['classic_win_rate','streamers_win_rate']].plot()"
   ]
  },
  {
   "cell_type": "code",
   "execution_count": 57,
   "id": "296385ec",
   "metadata": {},
   "outputs": [
    {
     "data": {
      "text/html": [
       "<div>\n",
       "<style scoped>\n",
       "    .dataframe tbody tr th:only-of-type {\n",
       "        vertical-align: middle;\n",
       "    }\n",
       "\n",
       "    .dataframe tbody tr th {\n",
       "        vertical-align: top;\n",
       "    }\n",
       "\n",
       "    .dataframe thead th {\n",
       "        text-align: right;\n",
       "    }\n",
       "</style>\n",
       "<table border=\"1\" class=\"dataframe\">\n",
       "  <thead>\n",
       "    <tr style=\"text-align: right;\">\n",
       "      <th></th>\n",
       "      <th></th>\n",
       "      <th>distributor</th>\n",
       "    </tr>\n",
       "    <tr>\n",
       "      <th>year_film</th>\n",
       "      <th>distributor</th>\n",
       "      <th></th>\n",
       "    </tr>\n",
       "  </thead>\n",
       "  <tbody>\n",
       "    <tr>\n",
       "      <th rowspan=\"5\" valign=\"top\">2011</th>\n",
       "      <th>Paramount</th>\n",
       "      <td>16</td>\n",
       "    </tr>\n",
       "    <tr>\n",
       "      <th>The Weinstein Company</th>\n",
       "      <td>16</td>\n",
       "    </tr>\n",
       "    <tr>\n",
       "      <th>Sony Pictures Releasing</th>\n",
       "      <td>13</td>\n",
       "    </tr>\n",
       "    <tr>\n",
       "      <th>Touchstone Pictures</th>\n",
       "      <td>11</td>\n",
       "    </tr>\n",
       "    <tr>\n",
       "      <th>Fox Searchlight</th>\n",
       "      <td>8</td>\n",
       "    </tr>\n",
       "    <tr>\n",
       "      <th rowspan=\"5\" valign=\"top\">2012</th>\n",
       "      <th>The Weinstein Company</th>\n",
       "      <td>17</td>\n",
       "    </tr>\n",
       "    <tr>\n",
       "      <th>20th Century Fox</th>\n",
       "      <td>12</td>\n",
       "    </tr>\n",
       "    <tr>\n",
       "      <th>Walt Disney/20th Century Fox</th>\n",
       "      <td>12</td>\n",
       "    </tr>\n",
       "    <tr>\n",
       "      <th>Universal</th>\n",
       "      <td>11</td>\n",
       "    </tr>\n",
       "    <tr>\n",
       "      <th>Sony Pictures Classics</th>\n",
       "      <td>8</td>\n",
       "    </tr>\n",
       "    <tr>\n",
       "      <th rowspan=\"5\" valign=\"top\">2013</th>\n",
       "      <th>Warner Bros</th>\n",
       "      <td>21</td>\n",
       "    </tr>\n",
       "    <tr>\n",
       "      <th>Sony Pictures Releasing</th>\n",
       "      <td>16</td>\n",
       "    </tr>\n",
       "    <tr>\n",
       "      <th>Paramount</th>\n",
       "      <td>13</td>\n",
       "    </tr>\n",
       "    <tr>\n",
       "      <th>Fox Searchlight</th>\n",
       "      <td>9</td>\n",
       "    </tr>\n",
       "    <tr>\n",
       "      <th>The Weinstein Company</th>\n",
       "      <td>9</td>\n",
       "    </tr>\n",
       "    <tr>\n",
       "      <th rowspan=\"5\" valign=\"top\">2014</th>\n",
       "      <th>Fox Searchlight</th>\n",
       "      <td>20</td>\n",
       "    </tr>\n",
       "    <tr>\n",
       "      <th>Sony Pictures Classics</th>\n",
       "      <td>18</td>\n",
       "    </tr>\n",
       "    <tr>\n",
       "      <th>Warner Bros</th>\n",
       "      <td>11</td>\n",
       "    </tr>\n",
       "    <tr>\n",
       "      <th>The Weinstein Company</th>\n",
       "      <td>9</td>\n",
       "    </tr>\n",
       "    <tr>\n",
       "      <th>Walt Disney</th>\n",
       "      <td>9</td>\n",
       "    </tr>\n",
       "    <tr>\n",
       "      <th rowspan=\"5\" valign=\"top\">2015</th>\n",
       "      <th>20th Century Fox</th>\n",
       "      <td>20</td>\n",
       "    </tr>\n",
       "    <tr>\n",
       "      <th>Warner Bros</th>\n",
       "      <td>11</td>\n",
       "    </tr>\n",
       "    <tr>\n",
       "      <th>The Weinstein Company</th>\n",
       "      <td>9</td>\n",
       "    </tr>\n",
       "    <tr>\n",
       "      <th>Walt Disney</th>\n",
       "      <td>9</td>\n",
       "    </tr>\n",
       "    <tr>\n",
       "      <th>A24</th>\n",
       "      <td>7</td>\n",
       "    </tr>\n",
       "    <tr>\n",
       "      <th rowspan=\"5\" valign=\"top\">2016</th>\n",
       "      <th>Summit Entertainment</th>\n",
       "      <td>22</td>\n",
       "    </tr>\n",
       "    <tr>\n",
       "      <th>Paramount</th>\n",
       "      <td>18</td>\n",
       "    </tr>\n",
       "    <tr>\n",
       "      <th>A24</th>\n",
       "      <td>9</td>\n",
       "    </tr>\n",
       "    <tr>\n",
       "      <th>Walt Disney</th>\n",
       "      <td>8</td>\n",
       "    </tr>\n",
       "    <tr>\n",
       "      <th>Amazon Studios</th>\n",
       "      <td>7</td>\n",
       "    </tr>\n",
       "    <tr>\n",
       "      <th rowspan=\"5\" valign=\"top\">2017</th>\n",
       "      <th>Fox Searchlight</th>\n",
       "      <td>20</td>\n",
       "    </tr>\n",
       "    <tr>\n",
       "      <th>Focus Features</th>\n",
       "      <td>14</td>\n",
       "    </tr>\n",
       "    <tr>\n",
       "      <th>Warner Bros</th>\n",
       "      <td>14</td>\n",
       "    </tr>\n",
       "    <tr>\n",
       "      <th>Walt Disney</th>\n",
       "      <td>10</td>\n",
       "    </tr>\n",
       "    <tr>\n",
       "      <th>Netflix</th>\n",
       "      <td>8</td>\n",
       "    </tr>\n",
       "    <tr>\n",
       "      <th rowspan=\"5\" valign=\"top\">2018</th>\n",
       "      <th>Walt Disney</th>\n",
       "      <td>17</td>\n",
       "    </tr>\n",
       "    <tr>\n",
       "      <th>Fox Searchlight</th>\n",
       "      <td>15</td>\n",
       "    </tr>\n",
       "    <tr>\n",
       "      <th>Netflix</th>\n",
       "      <td>15</td>\n",
       "    </tr>\n",
       "    <tr>\n",
       "      <th>Annapurna Pictures</th>\n",
       "      <td>10</td>\n",
       "    </tr>\n",
       "    <tr>\n",
       "      <th>Universal</th>\n",
       "      <td>9</td>\n",
       "    </tr>\n",
       "    <tr>\n",
       "      <th rowspan=\"5\" valign=\"top\">2019</th>\n",
       "      <th>Netflix</th>\n",
       "      <td>24</td>\n",
       "    </tr>\n",
       "    <tr>\n",
       "      <th>Sony Pictures Releasing</th>\n",
       "      <td>18</td>\n",
       "    </tr>\n",
       "    <tr>\n",
       "      <th>Walt Disney</th>\n",
       "      <td>16</td>\n",
       "    </tr>\n",
       "    <tr>\n",
       "      <th>Universal</th>\n",
       "      <td>12</td>\n",
       "    </tr>\n",
       "    <tr>\n",
       "      <th>Warner Bros</th>\n",
       "      <td>12</td>\n",
       "    </tr>\n",
       "    <tr>\n",
       "      <th rowspan=\"5\" valign=\"top\">2020</th>\n",
       "      <th>Netflix</th>\n",
       "      <td>35</td>\n",
       "    </tr>\n",
       "    <tr>\n",
       "      <th>Amazon Studios</th>\n",
       "      <td>12</td>\n",
       "    </tr>\n",
       "    <tr>\n",
       "      <th>Walt Disney</th>\n",
       "      <td>8</td>\n",
       "    </tr>\n",
       "    <tr>\n",
       "      <th>Warner Bros</th>\n",
       "      <td>8</td>\n",
       "    </tr>\n",
       "    <tr>\n",
       "      <th>Focus Features</th>\n",
       "      <td>7</td>\n",
       "    </tr>\n",
       "  </tbody>\n",
       "</table>\n",
       "</div>"
      ],
      "text/plain": [
       "                                        distributor\n",
       "year_film distributor                              \n",
       "2011      Paramount                              16\n",
       "          The Weinstein Company                  16\n",
       "          Sony Pictures Releasing                13\n",
       "          Touchstone Pictures                    11\n",
       "          Fox Searchlight                         8\n",
       "2012      The Weinstein Company                  17\n",
       "          20th Century Fox                       12\n",
       "          Walt Disney/20th Century Fox           12\n",
       "          Universal                              11\n",
       "          Sony Pictures Classics                  8\n",
       "2013      Warner Bros                            21\n",
       "          Sony Pictures Releasing                16\n",
       "          Paramount                              13\n",
       "          Fox Searchlight                         9\n",
       "          The Weinstein Company                   9\n",
       "2014      Fox Searchlight                        20\n",
       "          Sony Pictures Classics                 18\n",
       "          Warner Bros                            11\n",
       "          The Weinstein Company                   9\n",
       "          Walt Disney                             9\n",
       "2015      20th Century Fox                       20\n",
       "          Warner Bros                            11\n",
       "          The Weinstein Company                   9\n",
       "          Walt Disney                             9\n",
       "          A24                                     7\n",
       "2016      Summit Entertainment                   22\n",
       "          Paramount                              18\n",
       "          A24                                     9\n",
       "          Walt Disney                             8\n",
       "          Amazon Studios                          7\n",
       "2017      Fox Searchlight                        20\n",
       "          Focus Features                         14\n",
       "          Warner Bros                            14\n",
       "          Walt Disney                            10\n",
       "          Netflix                                 8\n",
       "2018      Walt Disney                            17\n",
       "          Fox Searchlight                        15\n",
       "          Netflix                                15\n",
       "          Annapurna Pictures                     10\n",
       "          Universal                               9\n",
       "2019      Netflix                                24\n",
       "          Sony Pictures Releasing                18\n",
       "          Walt Disney                            16\n",
       "          Universal                              12\n",
       "          Warner Bros                            12\n",
       "2020      Netflix                                35\n",
       "          Amazon Studios                         12\n",
       "          Walt Disney                             8\n",
       "          Warner Bros                             8\n",
       "          Focus Features                          7"
      ]
     },
     "execution_count": 57,
     "metadata": {},
     "output_type": "execute_result"
    }
   ],
   "source": [
    "df_noms = pd.DataFrame(df7.groupby(by='year_film').distributor.value_counts().groupby(level=0).nlargest(5)).reset_index(0,1)\n",
    "df_noms"
   ]
  },
  {
   "cell_type": "code",
   "execution_count": 58,
   "id": "bb2d5fdd",
   "metadata": {},
   "outputs": [],
   "source": [
    "#df_noms.unstack().plot(kind = 'bar',  y = 'distributor', figsize=(8, 8) )"
   ]
  },
  {
   "cell_type": "code",
   "execution_count": 77,
   "id": "ec823a5d",
   "metadata": {},
   "outputs": [
    {
     "data": {
      "text/html": [
       "<div>\n",
       "<style scoped>\n",
       "    .dataframe tbody tr th:only-of-type {\n",
       "        vertical-align: middle;\n",
       "    }\n",
       "\n",
       "    .dataframe tbody tr th {\n",
       "        vertical-align: top;\n",
       "    }\n",
       "\n",
       "    .dataframe thead th {\n",
       "        text-align: right;\n",
       "    }\n",
       "</style>\n",
       "<table border=\"1\" class=\"dataframe\">\n",
       "  <thead>\n",
       "    <tr style=\"text-align: right;\">\n",
       "      <th></th>\n",
       "      <th>year_film</th>\n",
       "      <th>year_ceremony</th>\n",
       "      <th>ceremony</th>\n",
       "      <th>category</th>\n",
       "      <th>name</th>\n",
       "      <th>film</th>\n",
       "      <th>winner</th>\n",
       "      <th>distributor</th>\n",
       "    </tr>\n",
       "  </thead>\n",
       "  <tbody>\n",
       "    <tr>\n",
       "      <th>0</th>\n",
       "      <td>2020</td>\n",
       "      <td>2021</td>\n",
       "      <td>93</td>\n",
       "      <td>ACTOR IN A LEADING ROLE</td>\n",
       "      <td>Chadwick Boseman</td>\n",
       "      <td>Ma Rainey's Black Bottom</td>\n",
       "      <td>False</td>\n",
       "      <td>Netflix</td>\n",
       "    </tr>\n",
       "    <tr>\n",
       "      <th>1</th>\n",
       "      <td>2020</td>\n",
       "      <td>2021</td>\n",
       "      <td>93</td>\n",
       "      <td>ACTOR IN A LEADING ROLE</td>\n",
       "      <td>Gary Oldman</td>\n",
       "      <td>Mank</td>\n",
       "      <td>False</td>\n",
       "      <td>Netflix</td>\n",
       "    </tr>\n",
       "  </tbody>\n",
       "</table>\n",
       "</div>"
      ],
      "text/plain": [
       "   year_film  year_ceremony  ceremony                 category  \\\n",
       "0       2020           2021        93  ACTOR IN A LEADING ROLE   \n",
       "1       2020           2021        93  ACTOR IN A LEADING ROLE   \n",
       "\n",
       "               name                      film  winner distributor  \n",
       "0  Chadwick Boseman  Ma Rainey's Black Bottom   False     Netflix  \n",
       "1       Gary Oldman                      Mank   False     Netflix  "
      ]
     },
     "execution_count": 77,
     "metadata": {},
     "output_type": "execute_result"
    }
   ],
   "source": [
    "df6.head(2)"
   ]
  },
  {
   "cell_type": "code",
   "execution_count": 60,
   "id": "5bba2118",
   "metadata": {},
   "outputs": [
    {
     "data": {
      "text/plain": [
       "array(['ACTOR IN A LEADING ROLE', 'ACTOR IN A SUPPORTING ROLE',\n",
       "       'ACTRESS IN A LEADING ROLE', 'ACTRESS IN A SUPPORTING ROLE',\n",
       "       'ANIMATED FEATURE FILM', 'BEST PICTURE', 'CINEMATOGRAPHY',\n",
       "       'COSTUME DESIGN', 'DIRECTING', 'DOCUMENTARY (Feature)',\n",
       "       'DOCUMENTARY (Short Subject)', 'FILM EDITING',\n",
       "       'INTERNATIONAL FEATURE FILM', 'MAKEUP AND HAIRSTYLING',\n",
       "       'MUSIC (Original Score)', 'MUSIC (Original Song)',\n",
       "       'PRODUCTION DESIGN', 'SHORT FILM (Animated)',\n",
       "       'SHORT FILM (Live Action)', 'SOUND', 'VISUAL EFFECTS',\n",
       "       'WRITING (Adapted Screenplay)', 'WRITING (Original Screenplay)',\n",
       "       'SOUND EDITING', 'SOUND MIXING', 'FOREIGN LANGUAGE FILM',\n",
       "       'ART DIRECTION', 'MAKEUP'], dtype=object)"
      ]
     },
     "execution_count": 60,
     "metadata": {},
     "output_type": "execute_result"
    }
   ],
   "source": [
    "df6.category.unique()"
   ]
  },
  {
   "cell_type": "code",
   "execution_count": 61,
   "id": "4532ccd6",
   "metadata": {},
   "outputs": [],
   "source": [
    "df8 = df6[(df6.category == 'BEST PICTURE') & (df6.winner == True)]\n",
    "df_bestpicture = df8[['year_film','film','distributor']].set_index('year_film')"
   ]
  },
  {
   "cell_type": "code",
   "execution_count": null,
   "id": "b0cda627",
   "metadata": {},
   "outputs": [],
   "source": []
  },
  {
   "cell_type": "code",
   "execution_count": 62,
   "id": "6042f668",
   "metadata": {},
   "outputs": [
    {
     "data": {
      "text/html": [
       "<div>\n",
       "<style scoped>\n",
       "    .dataframe tbody tr th:only-of-type {\n",
       "        vertical-align: middle;\n",
       "    }\n",
       "\n",
       "    .dataframe tbody tr th {\n",
       "        vertical-align: top;\n",
       "    }\n",
       "\n",
       "    .dataframe thead th {\n",
       "        text-align: right;\n",
       "    }\n",
       "</style>\n",
       "<table border=\"1\" class=\"dataframe\">\n",
       "  <thead>\n",
       "    <tr style=\"text-align: right;\">\n",
       "      <th></th>\n",
       "      <th>film</th>\n",
       "      <th>distributor</th>\n",
       "    </tr>\n",
       "    <tr>\n",
       "      <th>year_film</th>\n",
       "      <th></th>\n",
       "      <th></th>\n",
       "    </tr>\n",
       "  </thead>\n",
       "  <tbody>\n",
       "    <tr>\n",
       "      <th>2020</th>\n",
       "      <td>Nomadland</td>\n",
       "      <td>Searchlight</td>\n",
       "    </tr>\n",
       "    <tr>\n",
       "      <th>2019</th>\n",
       "      <td>Parasite</td>\n",
       "      <td>Neon</td>\n",
       "    </tr>\n",
       "    <tr>\n",
       "      <th>2018</th>\n",
       "      <td>Green Book</td>\n",
       "      <td>Universal</td>\n",
       "    </tr>\n",
       "    <tr>\n",
       "      <th>2017</th>\n",
       "      <td>The Shape of Water</td>\n",
       "      <td>Fox Searchlight</td>\n",
       "    </tr>\n",
       "    <tr>\n",
       "      <th>2016</th>\n",
       "      <td>Moonlight</td>\n",
       "      <td>A24</td>\n",
       "    </tr>\n",
       "    <tr>\n",
       "      <th>2015</th>\n",
       "      <td>Spotlight</td>\n",
       "      <td>Open Road Films</td>\n",
       "    </tr>\n",
       "    <tr>\n",
       "      <th>2014</th>\n",
       "      <td>Birdman or (The Unexpected Virtue of Ignorance)</td>\n",
       "      <td>Fox Searchlight</td>\n",
       "    </tr>\n",
       "    <tr>\n",
       "      <th>2013</th>\n",
       "      <td>12 Years a Slave</td>\n",
       "      <td>Fox Searchlight</td>\n",
       "    </tr>\n",
       "    <tr>\n",
       "      <th>2012</th>\n",
       "      <td>Argo</td>\n",
       "      <td>Warner Bros</td>\n",
       "    </tr>\n",
       "    <tr>\n",
       "      <th>2011</th>\n",
       "      <td>The Artist</td>\n",
       "      <td>The Weinstein Company</td>\n",
       "    </tr>\n",
       "  </tbody>\n",
       "</table>\n",
       "</div>"
      ],
      "text/plain": [
       "                                                      film  \\\n",
       "year_film                                                    \n",
       "2020                                             Nomadland   \n",
       "2019                                              Parasite   \n",
       "2018                                            Green Book   \n",
       "2017                                    The Shape of Water   \n",
       "2016                                             Moonlight   \n",
       "2015                                             Spotlight   \n",
       "2014       Birdman or (The Unexpected Virtue of Ignorance)   \n",
       "2013                                      12 Years a Slave   \n",
       "2012                                                  Argo   \n",
       "2011                                            The Artist   \n",
       "\n",
       "                     distributor  \n",
       "year_film                         \n",
       "2020                 Searchlight  \n",
       "2019                        Neon  \n",
       "2018                   Universal  \n",
       "2017             Fox Searchlight  \n",
       "2016                         A24  \n",
       "2015             Open Road Films  \n",
       "2014             Fox Searchlight  \n",
       "2013             Fox Searchlight  \n",
       "2012                 Warner Bros  \n",
       "2011       The Weinstein Company  "
      ]
     },
     "execution_count": 62,
     "metadata": {},
     "output_type": "execute_result"
    }
   ],
   "source": [
    "df_bestpicture"
   ]
  },
  {
   "cell_type": "code",
   "execution_count": 63,
   "id": "e3e47af6",
   "metadata": {},
   "outputs": [],
   "source": [
    "df_bestpicture.to_csv(\"bestpictures.csv\")"
   ]
  },
  {
   "cell_type": "code",
   "execution_count": 64,
   "id": "a69fdd2e",
   "metadata": {},
   "outputs": [],
   "source": [
    "dfN =df6[df6.distributor == \"Netflix\"]"
   ]
  },
  {
   "cell_type": "code",
   "execution_count": 65,
   "id": "df2b3aaf",
   "metadata": {},
   "outputs": [],
   "source": [
    "dfN1 = dfN[['year_film','category']].groupby(by='year_film').category.value_counts()"
   ]
  },
  {
   "cell_type": "code",
   "execution_count": 66,
   "id": "a8cc0767",
   "metadata": {},
   "outputs": [
    {
     "data": {
      "text/plain": [
       "year_film  category                     \n",
       "2013       DOCUMENTARY (Feature)            1\n",
       "2014       DOCUMENTARY (Feature)            1\n",
       "2015       DOCUMENTARY (Feature)            2\n",
       "2016       DOCUMENTARY (Short Subject)      2\n",
       "           DOCUMENTARY (Feature)            1\n",
       "                                           ..\n",
       "2020       SHORT FILM (Animated)            1\n",
       "           SOUND                            1\n",
       "           VISUAL EFFECTS                   1\n",
       "           WRITING (Adapted Screenplay)     1\n",
       "           WRITING (Original Screenplay)    1\n",
       "Name: category, Length: 64, dtype: int64"
      ]
     },
     "execution_count": 66,
     "metadata": {},
     "output_type": "execute_result"
    }
   ],
   "source": [
    "dfN1"
   ]
  },
  {
   "cell_type": "code",
   "execution_count": 67,
   "id": "cd213ced",
   "metadata": {},
   "outputs": [
    {
     "data": {
      "text/html": [
       "<div>\n",
       "<style scoped>\n",
       "    .dataframe tbody tr th:only-of-type {\n",
       "        vertical-align: middle;\n",
       "    }\n",
       "\n",
       "    .dataframe tbody tr th {\n",
       "        vertical-align: top;\n",
       "    }\n",
       "\n",
       "    .dataframe thead th {\n",
       "        text-align: right;\n",
       "    }\n",
       "</style>\n",
       "<table border=\"1\" class=\"dataframe\">\n",
       "  <thead>\n",
       "    <tr style=\"text-align: right;\">\n",
       "      <th></th>\n",
       "      <th>year_film</th>\n",
       "      <th>year_ceremony</th>\n",
       "      <th>ceremony</th>\n",
       "      <th>category</th>\n",
       "      <th>name</th>\n",
       "      <th>film</th>\n",
       "      <th>winner</th>\n",
       "      <th>distributor</th>\n",
       "    </tr>\n",
       "  </thead>\n",
       "  <tbody>\n",
       "    <tr>\n",
       "      <th>928</th>\n",
       "      <td>2013</td>\n",
       "      <td>2014</td>\n",
       "      <td>86</td>\n",
       "      <td>DOCUMENTARY (Feature)</td>\n",
       "      <td>Jehane Noujaim and Karim Amer</td>\n",
       "      <td>The Square</td>\n",
       "      <td>False</td>\n",
       "      <td>Netflix</td>\n",
       "    </tr>\n",
       "  </tbody>\n",
       "</table>\n",
       "</div>"
      ],
      "text/plain": [
       "     year_film  year_ceremony  ceremony               category  \\\n",
       "928       2013           2014        86  DOCUMENTARY (Feature)   \n",
       "\n",
       "                              name        film  winner distributor  \n",
       "928  Jehane Noujaim and Karim Amer  The Square   False     Netflix  "
      ]
     },
     "execution_count": 67,
     "metadata": {},
     "output_type": "execute_result"
    }
   ],
   "source": [
    "dfN[(dfN.category == 'DOCUMENTARY (Feature)') & (dfN['year_film'] == 2013)]"
   ]
  },
  {
   "cell_type": "code",
   "execution_count": 68,
   "id": "7ee671be",
   "metadata": {},
   "outputs": [
    {
     "data": {
      "text/html": [
       "<div>\n",
       "<style scoped>\n",
       "    .dataframe tbody tr th:only-of-type {\n",
       "        vertical-align: middle;\n",
       "    }\n",
       "\n",
       "    .dataframe tbody tr th {\n",
       "        vertical-align: top;\n",
       "    }\n",
       "\n",
       "    .dataframe thead th {\n",
       "        text-align: right;\n",
       "    }\n",
       "</style>\n",
       "<table border=\"1\" class=\"dataframe\">\n",
       "  <thead>\n",
       "    <tr style=\"text-align: right;\">\n",
       "      <th></th>\n",
       "      <th>year_film</th>\n",
       "      <th>year_ceremony</th>\n",
       "      <th>ceremony</th>\n",
       "      <th>category</th>\n",
       "      <th>name</th>\n",
       "      <th>film</th>\n",
       "      <th>winner</th>\n",
       "      <th>distributor</th>\n",
       "    </tr>\n",
       "  </thead>\n",
       "  <tbody>\n",
       "    <tr>\n",
       "      <th>34</th>\n",
       "      <td>2020</td>\n",
       "      <td>2021</td>\n",
       "      <td>93</td>\n",
       "      <td>CINEMATOGRAPHY</td>\n",
       "      <td>Erik Messerschmidt</td>\n",
       "      <td>Mank</td>\n",
       "      <td>True</td>\n",
       "      <td>Netflix</td>\n",
       "    </tr>\n",
       "    <tr>\n",
       "      <th>39</th>\n",
       "      <td>2020</td>\n",
       "      <td>2021</td>\n",
       "      <td>93</td>\n",
       "      <td>COSTUME DESIGN</td>\n",
       "      <td>Ann Roth</td>\n",
       "      <td>Ma Rainey's Black Bottom</td>\n",
       "      <td>True</td>\n",
       "      <td>Netflix</td>\n",
       "    </tr>\n",
       "    <tr>\n",
       "      <th>50</th>\n",
       "      <td>2020</td>\n",
       "      <td>2021</td>\n",
       "      <td>93</td>\n",
       "      <td>DOCUMENTARY (Feature)</td>\n",
       "      <td>Pippa Ehrlich, James Reed and Craig Foster</td>\n",
       "      <td>My Octopus Teacher</td>\n",
       "      <td>True</td>\n",
       "      <td>Netflix</td>\n",
       "    </tr>\n",
       "    <tr>\n",
       "      <th>72</th>\n",
       "      <td>2020</td>\n",
       "      <td>2021</td>\n",
       "      <td>93</td>\n",
       "      <td>MAKEUP AND HAIRSTYLING</td>\n",
       "      <td>Sergio Lopez-Rivera, Mia Neal and Jamika Wilson</td>\n",
       "      <td>Ma Rainey's Black Bottom</td>\n",
       "      <td>True</td>\n",
       "      <td>Netflix</td>\n",
       "    </tr>\n",
       "    <tr>\n",
       "      <th>86</th>\n",
       "      <td>2020</td>\n",
       "      <td>2021</td>\n",
       "      <td>93</td>\n",
       "      <td>PRODUCTION DESIGN</td>\n",
       "      <td>Production Design: Donald Graham Burt; Set Dec...</td>\n",
       "      <td>Mank</td>\n",
       "      <td>True</td>\n",
       "      <td>Netflix</td>\n",
       "    </tr>\n",
       "    <tr>\n",
       "      <th>92</th>\n",
       "      <td>2020</td>\n",
       "      <td>2021</td>\n",
       "      <td>93</td>\n",
       "      <td>SHORT FILM (Animated)</td>\n",
       "      <td>Will McCormack and Michael Govier</td>\n",
       "      <td>If Anything Happens I Love You</td>\n",
       "      <td>True</td>\n",
       "      <td>Netflix</td>\n",
       "    </tr>\n",
       "  </tbody>\n",
       "</table>\n",
       "</div>"
      ],
      "text/plain": [
       "    year_film  year_ceremony  ceremony                category  \\\n",
       "34       2020           2021        93          CINEMATOGRAPHY   \n",
       "39       2020           2021        93          COSTUME DESIGN   \n",
       "50       2020           2021        93   DOCUMENTARY (Feature)   \n",
       "72       2020           2021        93  MAKEUP AND HAIRSTYLING   \n",
       "86       2020           2021        93       PRODUCTION DESIGN   \n",
       "92       2020           2021        93   SHORT FILM (Animated)   \n",
       "\n",
       "                                                 name  \\\n",
       "34                                 Erik Messerschmidt   \n",
       "39                                           Ann Roth   \n",
       "50         Pippa Ehrlich, James Reed and Craig Foster   \n",
       "72    Sergio Lopez-Rivera, Mia Neal and Jamika Wilson   \n",
       "86  Production Design: Donald Graham Burt; Set Dec...   \n",
       "92                  Will McCormack and Michael Govier   \n",
       "\n",
       "                              film  winner distributor  \n",
       "34                            Mank    True     Netflix  \n",
       "39        Ma Rainey's Black Bottom    True     Netflix  \n",
       "50              My Octopus Teacher    True     Netflix  \n",
       "72        Ma Rainey's Black Bottom    True     Netflix  \n",
       "86                            Mank    True     Netflix  \n",
       "92  If Anything Happens I Love You    True     Netflix  "
      ]
     },
     "execution_count": 68,
     "metadata": {},
     "output_type": "execute_result"
    }
   ],
   "source": [
    "dfN[(dfN.winner == True) & (dfN['year_film'] == 2020)]"
   ]
  },
  {
   "cell_type": "code",
   "execution_count": 69,
   "id": "d561b658",
   "metadata": {
    "scrolled": true
   },
   "outputs": [],
   "source": [
    "dfN[(dfN.winner == True) & (dfN['year_film'] == 2020)].to_csv(\"netflix_2020_win.csv\")"
   ]
  },
  {
   "cell_type": "code",
   "execution_count": 70,
   "id": "ddb3e6f7",
   "metadata": {},
   "outputs": [],
   "source": [
    "pd.DataFrame(dfN1).to_csv(\"netflix_oscars_nomination.detail.csv\")"
   ]
  },
  {
   "cell_type": "code",
   "execution_count": 71,
   "id": "a601c15b",
   "metadata": {},
   "outputs": [],
   "source": [
    "dfN2 = df6[(df6.distributor == \"Netflix\") & (df6.winner == True)]"
   ]
  },
  {
   "cell_type": "code",
   "execution_count": 72,
   "id": "2a3e2438",
   "metadata": {},
   "outputs": [
    {
     "data": {
      "text/html": [
       "<div>\n",
       "<style scoped>\n",
       "    .dataframe tbody tr th:only-of-type {\n",
       "        vertical-align: middle;\n",
       "    }\n",
       "\n",
       "    .dataframe tbody tr th {\n",
       "        vertical-align: top;\n",
       "    }\n",
       "\n",
       "    .dataframe thead th {\n",
       "        text-align: right;\n",
       "    }\n",
       "</style>\n",
       "<table border=\"1\" class=\"dataframe\">\n",
       "  <thead>\n",
       "    <tr style=\"text-align: right;\">\n",
       "      <th></th>\n",
       "      <th>year_film</th>\n",
       "      <th>year_ceremony</th>\n",
       "      <th>ceremony</th>\n",
       "      <th>category</th>\n",
       "      <th>name</th>\n",
       "      <th>film</th>\n",
       "      <th>winner</th>\n",
       "      <th>distributor</th>\n",
       "    </tr>\n",
       "  </thead>\n",
       "  <tbody>\n",
       "    <tr>\n",
       "      <th>557</th>\n",
       "      <td>2016</td>\n",
       "      <td>2017</td>\n",
       "      <td>89</td>\n",
       "      <td>DOCUMENTARY (Short Subject)</td>\n",
       "      <td>Orlando von Einsiedel and Joanna Natasegara</td>\n",
       "      <td>The White Helmets</td>\n",
       "      <td>True</td>\n",
       "      <td>Netflix</td>\n",
       "    </tr>\n",
       "  </tbody>\n",
       "</table>\n",
       "</div>"
      ],
      "text/plain": [
       "     year_film  year_ceremony  ceremony                     category  \\\n",
       "557       2016           2017        89  DOCUMENTARY (Short Subject)   \n",
       "\n",
       "                                            name               film  winner  \\\n",
       "557  Orlando von Einsiedel and Joanna Natasegara  The White Helmets    True   \n",
       "\n",
       "    distributor  \n",
       "557     Netflix  "
      ]
     },
     "execution_count": 72,
     "metadata": {},
     "output_type": "execute_result"
    }
   ],
   "source": [
    "df6[(df6.distributor == \"Netflix\") & (df6.winner == True) & (dfN['year_film'] == 2016)]"
   ]
  },
  {
   "cell_type": "code",
   "execution_count": 73,
   "id": "f3c9346e",
   "metadata": {},
   "outputs": [],
   "source": [
    "dfNwin = pd.DataFrame(dfN2[['year_film','category']].groupby(by='year_film').category.value_counts())"
   ]
  },
  {
   "cell_type": "code",
   "execution_count": 74,
   "id": "5ba1cdca",
   "metadata": {},
   "outputs": [
    {
     "data": {
      "text/html": [
       "<div>\n",
       "<style scoped>\n",
       "    .dataframe tbody tr th:only-of-type {\n",
       "        vertical-align: middle;\n",
       "    }\n",
       "\n",
       "    .dataframe tbody tr th {\n",
       "        vertical-align: top;\n",
       "    }\n",
       "\n",
       "    .dataframe thead th {\n",
       "        text-align: right;\n",
       "    }\n",
       "</style>\n",
       "<table border=\"1\" class=\"dataframe\">\n",
       "  <thead>\n",
       "    <tr style=\"text-align: right;\">\n",
       "      <th></th>\n",
       "      <th></th>\n",
       "      <th>category</th>\n",
       "    </tr>\n",
       "    <tr>\n",
       "      <th>year_film</th>\n",
       "      <th>category</th>\n",
       "      <th></th>\n",
       "    </tr>\n",
       "  </thead>\n",
       "  <tbody>\n",
       "    <tr>\n",
       "      <th>2016</th>\n",
       "      <th>DOCUMENTARY (Short Subject)</th>\n",
       "      <td>1</td>\n",
       "    </tr>\n",
       "    <tr>\n",
       "      <th>2017</th>\n",
       "      <th>DOCUMENTARY (Feature)</th>\n",
       "      <td>1</td>\n",
       "    </tr>\n",
       "    <tr>\n",
       "      <th rowspan=\"4\" valign=\"top\">2018</th>\n",
       "      <th>CINEMATOGRAPHY</th>\n",
       "      <td>1</td>\n",
       "    </tr>\n",
       "    <tr>\n",
       "      <th>DIRECTING</th>\n",
       "      <td>1</td>\n",
       "    </tr>\n",
       "    <tr>\n",
       "      <th>DOCUMENTARY (Short Subject)</th>\n",
       "      <td>1</td>\n",
       "    </tr>\n",
       "    <tr>\n",
       "      <th>FOREIGN LANGUAGE FILM</th>\n",
       "      <td>1</td>\n",
       "    </tr>\n",
       "    <tr>\n",
       "      <th rowspan=\"2\" valign=\"top\">2019</th>\n",
       "      <th>ACTRESS IN A SUPPORTING ROLE</th>\n",
       "      <td>1</td>\n",
       "    </tr>\n",
       "    <tr>\n",
       "      <th>DOCUMENTARY (Feature)</th>\n",
       "      <td>1</td>\n",
       "    </tr>\n",
       "    <tr>\n",
       "      <th rowspan=\"6\" valign=\"top\">2020</th>\n",
       "      <th>CINEMATOGRAPHY</th>\n",
       "      <td>1</td>\n",
       "    </tr>\n",
       "    <tr>\n",
       "      <th>COSTUME DESIGN</th>\n",
       "      <td>1</td>\n",
       "    </tr>\n",
       "    <tr>\n",
       "      <th>DOCUMENTARY (Feature)</th>\n",
       "      <td>1</td>\n",
       "    </tr>\n",
       "    <tr>\n",
       "      <th>MAKEUP AND HAIRSTYLING</th>\n",
       "      <td>1</td>\n",
       "    </tr>\n",
       "    <tr>\n",
       "      <th>PRODUCTION DESIGN</th>\n",
       "      <td>1</td>\n",
       "    </tr>\n",
       "    <tr>\n",
       "      <th>SHORT FILM (Animated)</th>\n",
       "      <td>1</td>\n",
       "    </tr>\n",
       "  </tbody>\n",
       "</table>\n",
       "</div>"
      ],
      "text/plain": [
       "                                        category\n",
       "year_film category                              \n",
       "2016      DOCUMENTARY (Short Subject)          1\n",
       "2017      DOCUMENTARY (Feature)                1\n",
       "2018      CINEMATOGRAPHY                       1\n",
       "          DIRECTING                            1\n",
       "          DOCUMENTARY (Short Subject)          1\n",
       "          FOREIGN LANGUAGE FILM                1\n",
       "2019      ACTRESS IN A SUPPORTING ROLE         1\n",
       "          DOCUMENTARY (Feature)                1\n",
       "2020      CINEMATOGRAPHY                       1\n",
       "          COSTUME DESIGN                       1\n",
       "          DOCUMENTARY (Feature)                1\n",
       "          MAKEUP AND HAIRSTYLING               1\n",
       "          PRODUCTION DESIGN                    1\n",
       "          SHORT FILM (Animated)                1"
      ]
     },
     "execution_count": 74,
     "metadata": {},
     "output_type": "execute_result"
    }
   ],
   "source": [
    "dfNwin"
   ]
  },
  {
   "cell_type": "code",
   "execution_count": 75,
   "id": "103a2f05",
   "metadata": {},
   "outputs": [],
   "source": [
    "dfNwin.to_csv(\"netflix_oscars_win.detail.csv\")"
   ]
  },
  {
   "cell_type": "code",
   "execution_count": 87,
   "id": "00350629",
   "metadata": {},
   "outputs": [],
   "source": [
    "dfS = df6[df6['distributor'].isin([\"Netflix\",\"Amazon Studios\",\"Apple\", \"Hulu\"]) ]"
   ]
  },
  {
   "cell_type": "code",
   "execution_count": 91,
   "id": "2d1dfa47",
   "metadata": {},
   "outputs": [
    {
     "data": {
      "text/html": [
       "<div>\n",
       "<style scoped>\n",
       "    .dataframe tbody tr th:only-of-type {\n",
       "        vertical-align: middle;\n",
       "    }\n",
       "\n",
       "    .dataframe tbody tr th {\n",
       "        vertical-align: top;\n",
       "    }\n",
       "\n",
       "    .dataframe thead th {\n",
       "        text-align: right;\n",
       "    }\n",
       "</style>\n",
       "<table border=\"1\" class=\"dataframe\">\n",
       "  <thead>\n",
       "    <tr style=\"text-align: right;\">\n",
       "      <th></th>\n",
       "      <th>year_film</th>\n",
       "      <th>year_ceremony</th>\n",
       "      <th>ceremony</th>\n",
       "      <th>category</th>\n",
       "      <th>name</th>\n",
       "      <th>film</th>\n",
       "      <th>winner</th>\n",
       "      <th>distributor</th>\n",
       "    </tr>\n",
       "  </thead>\n",
       "  <tbody>\n",
       "    <tr>\n",
       "      <th>624</th>\n",
       "      <td>2016</td>\n",
       "      <td>2017</td>\n",
       "      <td>89</td>\n",
       "      <td>WRITING (Original Screenplay)</td>\n",
       "      <td>Written by Kenneth Lonergan</td>\n",
       "      <td>Manchester by the Sea</td>\n",
       "      <td>True</td>\n",
       "      <td>Amazon Studios</td>\n",
       "    </tr>\n",
       "    <tr>\n",
       "      <th>677</th>\n",
       "      <td>2015</td>\n",
       "      <td>2016</td>\n",
       "      <td>88</td>\n",
       "      <td>DOCUMENTARY (Feature)</td>\n",
       "      <td>Liz Garbus, Amy Hobby and Justin Wilkes</td>\n",
       "      <td>What Happened, Miss Simone?</td>\n",
       "      <td>False</td>\n",
       "      <td>Netflix</td>\n",
       "    </tr>\n",
       "    <tr>\n",
       "      <th>678</th>\n",
       "      <td>2015</td>\n",
       "      <td>2016</td>\n",
       "      <td>88</td>\n",
       "      <td>DOCUMENTARY (Feature)</td>\n",
       "      <td>Evgeny Afineevsky and Den Tolmor</td>\n",
       "      <td>Winter on Fire: Ukraine's Fight for Freedom</td>\n",
       "      <td>False</td>\n",
       "      <td>Netflix</td>\n",
       "    </tr>\n",
       "    <tr>\n",
       "      <th>802</th>\n",
       "      <td>2014</td>\n",
       "      <td>2015</td>\n",
       "      <td>87</td>\n",
       "      <td>DOCUMENTARY (Feature)</td>\n",
       "      <td>Orlando von Einsiedel and Joanna Natasegara</td>\n",
       "      <td>Virunga</td>\n",
       "      <td>False</td>\n",
       "      <td>Netflix</td>\n",
       "    </tr>\n",
       "    <tr>\n",
       "      <th>928</th>\n",
       "      <td>2013</td>\n",
       "      <td>2014</td>\n",
       "      <td>86</td>\n",
       "      <td>DOCUMENTARY (Feature)</td>\n",
       "      <td>Jehane Noujaim and Karim Amer</td>\n",
       "      <td>The Square</td>\n",
       "      <td>False</td>\n",
       "      <td>Netflix</td>\n",
       "    </tr>\n",
       "  </tbody>\n",
       "</table>\n",
       "</div>"
      ],
      "text/plain": [
       "     year_film  year_ceremony  ceremony                       category  \\\n",
       "624       2016           2017        89  WRITING (Original Screenplay)   \n",
       "677       2015           2016        88          DOCUMENTARY (Feature)   \n",
       "678       2015           2016        88          DOCUMENTARY (Feature)   \n",
       "802       2014           2015        87          DOCUMENTARY (Feature)   \n",
       "928       2013           2014        86          DOCUMENTARY (Feature)   \n",
       "\n",
       "                                            name  \\\n",
       "624                  Written by Kenneth Lonergan   \n",
       "677      Liz Garbus, Amy Hobby and Justin Wilkes   \n",
       "678             Evgeny Afineevsky and Den Tolmor   \n",
       "802  Orlando von Einsiedel and Joanna Natasegara   \n",
       "928                Jehane Noujaim and Karim Amer   \n",
       "\n",
       "                                            film  winner     distributor  \n",
       "624                        Manchester by the Sea    True  Amazon Studios  \n",
       "677                  What Happened, Miss Simone?   False         Netflix  \n",
       "678  Winter on Fire: Ukraine's Fight for Freedom   False         Netflix  \n",
       "802                                      Virunga   False         Netflix  \n",
       "928                                   The Square   False         Netflix  "
      ]
     },
     "execution_count": 91,
     "metadata": {},
     "output_type": "execute_result"
    }
   ],
   "source": [
    "dfS.tail()"
   ]
  },
  {
   "cell_type": "code",
   "execution_count": 219,
   "id": "b0f75c18",
   "metadata": {},
   "outputs": [],
   "source": [
    "dfS.to_csv('streamers_oscars.csv')"
   ]
  },
  {
   "cell_type": "code",
   "execution_count": 122,
   "id": "243365f6",
   "metadata": {},
   "outputs": [],
   "source": [
    "dfSN = pd.DataFrame(dfS.category.value_counts().reset_index().rename(columns = {\"category\" : \"nomination\"} ))"
   ]
  },
  {
   "cell_type": "code",
   "execution_count": 123,
   "id": "359c5b18",
   "metadata": {},
   "outputs": [],
   "source": [
    "dfSW = pd.DataFrame(dfS[dfS.winner == True].category.value_counts().reset_index().rename(columns = {\"category\" : \"win\"} ))"
   ]
  },
  {
   "cell_type": "code",
   "execution_count": 136,
   "id": "9152c107",
   "metadata": {},
   "outputs": [],
   "source": [
    "ｄｆSM = dfSN.merge(dfSW, how='outer').fillna(0)"
   ]
  },
  {
   "cell_type": "code",
   "execution_count": 138,
   "id": "205b58d8",
   "metadata": {},
   "outputs": [],
   "source": [
    "dfSM.win = dfSM.win.astype('int')"
   ]
  },
  {
   "cell_type": "code",
   "execution_count": 141,
   "id": "0f7853e4",
   "metadata": {},
   "outputs": [
    {
     "data": {
      "text/html": [
       "<div>\n",
       "<style scoped>\n",
       "    .dataframe tbody tr th:only-of-type {\n",
       "        vertical-align: middle;\n",
       "    }\n",
       "\n",
       "    .dataframe tbody tr th {\n",
       "        vertical-align: top;\n",
       "    }\n",
       "\n",
       "    .dataframe thead th {\n",
       "        text-align: right;\n",
       "    }\n",
       "</style>\n",
       "<table border=\"1\" class=\"dataframe\">\n",
       "  <thead>\n",
       "    <tr style=\"text-align: right;\">\n",
       "      <th></th>\n",
       "      <th>index</th>\n",
       "      <th>nomination</th>\n",
       "      <th>win</th>\n",
       "    </tr>\n",
       "  </thead>\n",
       "  <tbody>\n",
       "    <tr>\n",
       "      <th>0</th>\n",
       "      <td>DOCUMENTARY (Feature)</td>\n",
       "      <td>12</td>\n",
       "      <td>3</td>\n",
       "    </tr>\n",
       "    <tr>\n",
       "      <th>1</th>\n",
       "      <td>DOCUMENTARY (Short Subject)</td>\n",
       "      <td>8</td>\n",
       "      <td>2</td>\n",
       "    </tr>\n",
       "    <tr>\n",
       "      <th>2</th>\n",
       "      <td>WRITING (Adapted Screenplay)</td>\n",
       "      <td>7</td>\n",
       "      <td>0</td>\n",
       "    </tr>\n",
       "    <tr>\n",
       "      <th>3</th>\n",
       "      <td>BEST PICTURE</td>\n",
       "      <td>7</td>\n",
       "      <td>0</td>\n",
       "    </tr>\n",
       "    <tr>\n",
       "      <th>4</th>\n",
       "      <td>ACTOR IN A SUPPORTING ROLE</td>\n",
       "      <td>7</td>\n",
       "      <td>0</td>\n",
       "    </tr>\n",
       "    <tr>\n",
       "      <th>5</th>\n",
       "      <td>ACTRESS IN A SUPPORTING ROLE</td>\n",
       "      <td>7</td>\n",
       "      <td>1</td>\n",
       "    </tr>\n",
       "    <tr>\n",
       "      <th>6</th>\n",
       "      <td>WRITING (Original Screenplay)</td>\n",
       "      <td>6</td>\n",
       "      <td>1</td>\n",
       "    </tr>\n",
       "    <tr>\n",
       "      <th>7</th>\n",
       "      <td>CINEMATOGRAPHY</td>\n",
       "      <td>6</td>\n",
       "      <td>2</td>\n",
       "    </tr>\n",
       "    <tr>\n",
       "      <th>8</th>\n",
       "      <td>ACTOR IN A LEADING ROLE</td>\n",
       "      <td>6</td>\n",
       "      <td>1</td>\n",
       "    </tr>\n",
       "    <tr>\n",
       "      <th>9</th>\n",
       "      <td>MUSIC (Original Song)</td>\n",
       "      <td>6</td>\n",
       "      <td>0</td>\n",
       "    </tr>\n",
       "    <tr>\n",
       "      <th>10</th>\n",
       "      <td>ACTRESS IN A LEADING ROLE</td>\n",
       "      <td>5</td>\n",
       "      <td>0</td>\n",
       "    </tr>\n",
       "    <tr>\n",
       "      <th>11</th>\n",
       "      <td>DIRECTING</td>\n",
       "      <td>5</td>\n",
       "      <td>1</td>\n",
       "    </tr>\n",
       "    <tr>\n",
       "      <th>12</th>\n",
       "      <td>ANIMATED FEATURE FILM</td>\n",
       "      <td>5</td>\n",
       "      <td>0</td>\n",
       "    </tr>\n",
       "    <tr>\n",
       "      <th>13</th>\n",
       "      <td>PRODUCTION DESIGN</td>\n",
       "      <td>4</td>\n",
       "      <td>1</td>\n",
       "    </tr>\n",
       "    <tr>\n",
       "      <th>14</th>\n",
       "      <td>COSTUME DESIGN</td>\n",
       "      <td>4</td>\n",
       "      <td>1</td>\n",
       "    </tr>\n",
       "    <tr>\n",
       "      <th>15</th>\n",
       "      <td>FOREIGN LANGUAGE FILM</td>\n",
       "      <td>4</td>\n",
       "      <td>2</td>\n",
       "    </tr>\n",
       "    <tr>\n",
       "      <th>16</th>\n",
       "      <td>FILM EDITING</td>\n",
       "      <td>3</td>\n",
       "      <td>1</td>\n",
       "    </tr>\n",
       "    <tr>\n",
       "      <th>17</th>\n",
       "      <td>SOUND</td>\n",
       "      <td>3</td>\n",
       "      <td>1</td>\n",
       "    </tr>\n",
       "    <tr>\n",
       "      <th>18</th>\n",
       "      <td>MAKEUP AND HAIRSTYLING</td>\n",
       "      <td>3</td>\n",
       "      <td>1</td>\n",
       "    </tr>\n",
       "    <tr>\n",
       "      <th>19</th>\n",
       "      <td>MUSIC (Original Score)</td>\n",
       "      <td>3</td>\n",
       "      <td>0</td>\n",
       "    </tr>\n",
       "    <tr>\n",
       "      <th>20</th>\n",
       "      <td>VISUAL EFFECTS</td>\n",
       "      <td>2</td>\n",
       "      <td>0</td>\n",
       "    </tr>\n",
       "    <tr>\n",
       "      <th>21</th>\n",
       "      <td>SOUND MIXING</td>\n",
       "      <td>1</td>\n",
       "      <td>0</td>\n",
       "    </tr>\n",
       "    <tr>\n",
       "      <th>22</th>\n",
       "      <td>SOUND EDITING</td>\n",
       "      <td>1</td>\n",
       "      <td>0</td>\n",
       "    </tr>\n",
       "    <tr>\n",
       "      <th>23</th>\n",
       "      <td>SHORT FILM (Animated)</td>\n",
       "      <td>1</td>\n",
       "      <td>1</td>\n",
       "    </tr>\n",
       "  </tbody>\n",
       "</table>\n",
       "</div>"
      ],
      "text/plain": [
       "                            index  nomination  win\n",
       "0           DOCUMENTARY (Feature)          12    3\n",
       "1     DOCUMENTARY (Short Subject)           8    2\n",
       "2    WRITING (Adapted Screenplay)           7    0\n",
       "3                    BEST PICTURE           7    0\n",
       "4      ACTOR IN A SUPPORTING ROLE           7    0\n",
       "5    ACTRESS IN A SUPPORTING ROLE           7    1\n",
       "6   WRITING (Original Screenplay)           6    1\n",
       "7                  CINEMATOGRAPHY           6    2\n",
       "8         ACTOR IN A LEADING ROLE           6    1\n",
       "9           MUSIC (Original Song)           6    0\n",
       "10      ACTRESS IN A LEADING ROLE           5    0\n",
       "11                      DIRECTING           5    1\n",
       "12          ANIMATED FEATURE FILM           5    0\n",
       "13              PRODUCTION DESIGN           4    1\n",
       "14                 COSTUME DESIGN           4    1\n",
       "15          FOREIGN LANGUAGE FILM           4    2\n",
       "16                   FILM EDITING           3    1\n",
       "17                          SOUND           3    1\n",
       "18         MAKEUP AND HAIRSTYLING           3    1\n",
       "19         MUSIC (Original Score)           3    0\n",
       "20                 VISUAL EFFECTS           2    0\n",
       "21                   SOUND MIXING           1    0\n",
       "22                  SOUND EDITING           1    0\n",
       "23          SHORT FILM (Animated)           1    1"
      ]
     },
     "execution_count": 141,
     "metadata": {},
     "output_type": "execute_result"
    }
   ],
   "source": [
    "#nom&win for each category past 10 years\n",
    "dfSM"
   ]
  },
  {
   "cell_type": "code",
   "execution_count": 217,
   "id": "9529a70e",
   "metadata": {},
   "outputs": [
    {
     "data": {
      "text/html": [
       "<div>\n",
       "<style scoped>\n",
       "    .dataframe tbody tr th:only-of-type {\n",
       "        vertical-align: middle;\n",
       "    }\n",
       "\n",
       "    .dataframe tbody tr th {\n",
       "        vertical-align: top;\n",
       "    }\n",
       "\n",
       "    .dataframe thead th {\n",
       "        text-align: right;\n",
       "    }\n",
       "</style>\n",
       "<table border=\"1\" class=\"dataframe\">\n",
       "  <thead>\n",
       "    <tr style=\"text-align: right;\">\n",
       "      <th></th>\n",
       "      <th>year_film</th>\n",
       "      <th>year_ceremony</th>\n",
       "      <th>ceremony</th>\n",
       "      <th>category</th>\n",
       "      <th>name</th>\n",
       "      <th>film</th>\n",
       "      <th>winner</th>\n",
       "      <th>distributor</th>\n",
       "    </tr>\n",
       "  </thead>\n",
       "  <tbody>\n",
       "    <tr>\n",
       "      <th>34</th>\n",
       "      <td>2020</td>\n",
       "      <td>2021</td>\n",
       "      <td>93</td>\n",
       "      <td>CINEMATOGRAPHY</td>\n",
       "      <td>Erik Messerschmidt</td>\n",
       "      <td>Mank</td>\n",
       "      <td>True</td>\n",
       "      <td>Netflix</td>\n",
       "    </tr>\n",
       "    <tr>\n",
       "      <th>39</th>\n",
       "      <td>2020</td>\n",
       "      <td>2021</td>\n",
       "      <td>93</td>\n",
       "      <td>COSTUME DESIGN</td>\n",
       "      <td>Ann Roth</td>\n",
       "      <td>Ma Rainey's Black Bottom</td>\n",
       "      <td>True</td>\n",
       "      <td>Netflix</td>\n",
       "    </tr>\n",
       "    <tr>\n",
       "      <th>50</th>\n",
       "      <td>2020</td>\n",
       "      <td>2021</td>\n",
       "      <td>93</td>\n",
       "      <td>DOCUMENTARY (Feature)</td>\n",
       "      <td>Pippa Ehrlich, James Reed and Craig Foster</td>\n",
       "      <td>My Octopus Teacher</td>\n",
       "      <td>True</td>\n",
       "      <td>Netflix</td>\n",
       "    </tr>\n",
       "    <tr>\n",
       "      <th>60</th>\n",
       "      <td>2020</td>\n",
       "      <td>2021</td>\n",
       "      <td>93</td>\n",
       "      <td>FILM EDITING</td>\n",
       "      <td>Mikkel E. G. Nielsen</td>\n",
       "      <td>Sound of Metal</td>\n",
       "      <td>True</td>\n",
       "      <td>Amazon Studios</td>\n",
       "    </tr>\n",
       "    <tr>\n",
       "      <th>72</th>\n",
       "      <td>2020</td>\n",
       "      <td>2021</td>\n",
       "      <td>93</td>\n",
       "      <td>MAKEUP AND HAIRSTYLING</td>\n",
       "      <td>Sergio Lopez-Rivera, Mia Neal and Jamika Wilson</td>\n",
       "      <td>Ma Rainey's Black Bottom</td>\n",
       "      <td>True</td>\n",
       "      <td>Netflix</td>\n",
       "    </tr>\n",
       "    <tr>\n",
       "      <th>86</th>\n",
       "      <td>2020</td>\n",
       "      <td>2021</td>\n",
       "      <td>93</td>\n",
       "      <td>PRODUCTION DESIGN</td>\n",
       "      <td>Production Design: Donald Graham Burt; Set Dec...</td>\n",
       "      <td>Mank</td>\n",
       "      <td>True</td>\n",
       "      <td>Netflix</td>\n",
       "    </tr>\n",
       "    <tr>\n",
       "      <th>92</th>\n",
       "      <td>2020</td>\n",
       "      <td>2021</td>\n",
       "      <td>93</td>\n",
       "      <td>SHORT FILM (Animated)</td>\n",
       "      <td>Will McCormack and Michael Govier</td>\n",
       "      <td>If Anything Happens I Love You</td>\n",
       "      <td>True</td>\n",
       "      <td>Netflix</td>\n",
       "    </tr>\n",
       "    <tr>\n",
       "      <th>104</th>\n",
       "      <td>2020</td>\n",
       "      <td>2021</td>\n",
       "      <td>93</td>\n",
       "      <td>SOUND</td>\n",
       "      <td>Nicolas Becker, Jaime Baksht, Michellee Coutto...</td>\n",
       "      <td>Sound of Metal</td>\n",
       "      <td>True</td>\n",
       "      <td>Amazon Studios</td>\n",
       "    </tr>\n",
       "  </tbody>\n",
       "</table>\n",
       "</div>"
      ],
      "text/plain": [
       "     year_film  year_ceremony  ceremony                category  \\\n",
       "34        2020           2021        93          CINEMATOGRAPHY   \n",
       "39        2020           2021        93          COSTUME DESIGN   \n",
       "50        2020           2021        93   DOCUMENTARY (Feature)   \n",
       "60        2020           2021        93            FILM EDITING   \n",
       "72        2020           2021        93  MAKEUP AND HAIRSTYLING   \n",
       "86        2020           2021        93       PRODUCTION DESIGN   \n",
       "92        2020           2021        93   SHORT FILM (Animated)   \n",
       "104       2020           2021        93                   SOUND   \n",
       "\n",
       "                                                  name  \\\n",
       "34                                  Erik Messerschmidt   \n",
       "39                                            Ann Roth   \n",
       "50          Pippa Ehrlich, James Reed and Craig Foster   \n",
       "60                                Mikkel E. G. Nielsen   \n",
       "72     Sergio Lopez-Rivera, Mia Neal and Jamika Wilson   \n",
       "86   Production Design: Donald Graham Burt; Set Dec...   \n",
       "92                   Will McCormack and Michael Govier   \n",
       "104  Nicolas Becker, Jaime Baksht, Michellee Coutto...   \n",
       "\n",
       "                               film  winner     distributor  \n",
       "34                             Mank    True         Netflix  \n",
       "39         Ma Rainey's Black Bottom    True         Netflix  \n",
       "50               My Octopus Teacher    True         Netflix  \n",
       "60                   Sound of Metal    True  Amazon Studios  \n",
       "72         Ma Rainey's Black Bottom    True         Netflix  \n",
       "86                             Mank    True         Netflix  \n",
       "92   If Anything Happens I Love You    True         Netflix  \n",
       "104                  Sound of Metal    True  Amazon Studios  "
      ]
     },
     "execution_count": 217,
     "metadata": {},
     "output_type": "execute_result"
    }
   ],
   "source": [
    "dfS[(dfS['year_film'] == 2020) & (dfS['winner'] == True) ]"
   ]
  },
  {
   "cell_type": "code",
   "execution_count": 169,
   "id": "7c3bfcfd",
   "metadata": {},
   "outputs": [],
   "source": [
    "dfSYN = pd.DataFrame(dfS.groupby('year_film').category.value_counts()).rename(columns = {\"category\" : \"nom\"} )"
   ]
  },
  {
   "cell_type": "code",
   "execution_count": 214,
   "id": "3c83b1ae",
   "metadata": {},
   "outputs": [],
   "source": [
    "# dfSYN.plot(kind= 'barh', stacked=True, figsize=(8,8))"
   ]
  },
  {
   "cell_type": "code",
   "execution_count": 188,
   "id": "48e08775",
   "metadata": {},
   "outputs": [
    {
     "data": {
      "text/html": [
       "<div>\n",
       "<style scoped>\n",
       "    .dataframe tbody tr th:only-of-type {\n",
       "        vertical-align: middle;\n",
       "    }\n",
       "\n",
       "    .dataframe tbody tr th {\n",
       "        vertical-align: top;\n",
       "    }\n",
       "\n",
       "    .dataframe thead th {\n",
       "        text-align: right;\n",
       "    }\n",
       "</style>\n",
       "<table border=\"1\" class=\"dataframe\">\n",
       "  <thead>\n",
       "    <tr style=\"text-align: right;\">\n",
       "      <th></th>\n",
       "      <th></th>\n",
       "      <th>nom</th>\n",
       "    </tr>\n",
       "    <tr>\n",
       "      <th>year_film</th>\n",
       "      <th>category</th>\n",
       "      <th></th>\n",
       "    </tr>\n",
       "  </thead>\n",
       "  <tbody>\n",
       "    <tr>\n",
       "      <th>2013</th>\n",
       "      <th>DOCUMENTARY (Feature)</th>\n",
       "      <td>1</td>\n",
       "    </tr>\n",
       "    <tr>\n",
       "      <th>2014</th>\n",
       "      <th>DOCUMENTARY (Feature)</th>\n",
       "      <td>1</td>\n",
       "    </tr>\n",
       "  </tbody>\n",
       "</table>\n",
       "</div>"
      ],
      "text/plain": [
       "                                 nom\n",
       "year_film category                  \n",
       "2013      DOCUMENTARY (Feature)    1\n",
       "2014      DOCUMENTARY (Feature)    1"
      ]
     },
     "execution_count": 188,
     "metadata": {},
     "output_type": "execute_result"
    }
   ],
   "source": [
    "dfSYN.head(2)"
   ]
  },
  {
   "cell_type": "code",
   "execution_count": 171,
   "id": "ceea1d17",
   "metadata": {},
   "outputs": [],
   "source": [
    "dfSYW = pd.DataFrame(dfS[dfS.winner == True].groupby('year_film').category.value_counts()).rename(columns = {\"category\" : \"win\"} )"
   ]
  },
  {
   "cell_type": "code",
   "execution_count": 186,
   "id": "3c28a63c",
   "metadata": {},
   "outputs": [],
   "source": [
    "dfSYM = dfSYN.merge(dfSYW, on = ['year_film','category'], how='outer').fillna(0).astype('int')"
   ]
  },
  {
   "cell_type": "code",
   "execution_count": 216,
   "id": "532088a1",
   "metadata": {},
   "outputs": [
    {
     "data": {
      "text/html": [
       "<div>\n",
       "<style scoped>\n",
       "    .dataframe tbody tr th:only-of-type {\n",
       "        vertical-align: middle;\n",
       "    }\n",
       "\n",
       "    .dataframe tbody tr th {\n",
       "        vertical-align: top;\n",
       "    }\n",
       "\n",
       "    .dataframe thead th {\n",
       "        text-align: right;\n",
       "    }\n",
       "</style>\n",
       "<table border=\"1\" class=\"dataframe\">\n",
       "  <thead>\n",
       "    <tr style=\"text-align: right;\">\n",
       "      <th></th>\n",
       "      <th></th>\n",
       "      <th>nom</th>\n",
       "      <th>win</th>\n",
       "    </tr>\n",
       "    <tr>\n",
       "      <th>year_film</th>\n",
       "      <th>category</th>\n",
       "      <th></th>\n",
       "      <th></th>\n",
       "    </tr>\n",
       "  </thead>\n",
       "  <tbody>\n",
       "    <tr>\n",
       "      <th>2013</th>\n",
       "      <th>DOCUMENTARY (Feature)</th>\n",
       "      <td>1</td>\n",
       "      <td>0</td>\n",
       "    </tr>\n",
       "    <tr>\n",
       "      <th>2014</th>\n",
       "      <th>DOCUMENTARY (Feature)</th>\n",
       "      <td>1</td>\n",
       "      <td>0</td>\n",
       "    </tr>\n",
       "    <tr>\n",
       "      <th>2015</th>\n",
       "      <th>DOCUMENTARY (Feature)</th>\n",
       "      <td>2</td>\n",
       "      <td>0</td>\n",
       "    </tr>\n",
       "    <tr>\n",
       "      <th rowspan=\"7\" valign=\"top\">2016</th>\n",
       "      <th>DOCUMENTARY (Short Subject)</th>\n",
       "      <td>2</td>\n",
       "      <td>1</td>\n",
       "    </tr>\n",
       "    <tr>\n",
       "      <th>ACTOR IN A LEADING ROLE</th>\n",
       "      <td>1</td>\n",
       "      <td>1</td>\n",
       "    </tr>\n",
       "    <tr>\n",
       "      <th>ACTOR IN A SUPPORTING ROLE</th>\n",
       "      <td>1</td>\n",
       "      <td>0</td>\n",
       "    </tr>\n",
       "    <tr>\n",
       "      <th>ACTRESS IN A SUPPORTING ROLE</th>\n",
       "      <td>1</td>\n",
       "      <td>0</td>\n",
       "    </tr>\n",
       "    <tr>\n",
       "      <th>BEST PICTURE</th>\n",
       "      <td>1</td>\n",
       "      <td>0</td>\n",
       "    </tr>\n",
       "    <tr>\n",
       "      <th>DIRECTING</th>\n",
       "      <td>1</td>\n",
       "      <td>0</td>\n",
       "    </tr>\n",
       "    <tr>\n",
       "      <th>DOCUMENTARY (Feature)</th>\n",
       "      <td>1</td>\n",
       "      <td>0</td>\n",
       "    </tr>\n",
       "  </tbody>\n",
       "</table>\n",
       "</div>"
      ],
      "text/plain": [
       "                                        nom  win\n",
       "year_film category                              \n",
       "2013      DOCUMENTARY (Feature)           1    0\n",
       "2014      DOCUMENTARY (Feature)           1    0\n",
       "2015      DOCUMENTARY (Feature)           2    0\n",
       "2016      DOCUMENTARY (Short Subject)     2    1\n",
       "          ACTOR IN A LEADING ROLE         1    1\n",
       "          ACTOR IN A SUPPORTING ROLE      1    0\n",
       "          ACTRESS IN A SUPPORTING ROLE    1    0\n",
       "          BEST PICTURE                    1    0\n",
       "          DIRECTING                       1    0\n",
       "          DOCUMENTARY (Feature)           1    0"
      ]
     },
     "execution_count": 216,
     "metadata": {},
     "output_type": "execute_result"
    }
   ],
   "source": [
    "#nom&win for each category past 10 years, per year\n",
    "dfSYM.head(10)"
   ]
  },
  {
   "cell_type": "code",
   "execution_count": 218,
   "id": "813c98d1",
   "metadata": {},
   "outputs": [],
   "source": [
    "dfSYM.to_csv('streamers_year_category_nomwin.csv')"
   ]
  },
  {
   "cell_type": "code",
   "execution_count": null,
   "id": "79be86da",
   "metadata": {},
   "outputs": [],
   "source": []
  }
 ],
 "metadata": {
  "kernelspec": {
   "display_name": "Python 3",
   "language": "python",
   "name": "python3"
  },
  "language_info": {
   "codemirror_mode": {
    "name": "ipython",
    "version": 3
   },
   "file_extension": ".py",
   "mimetype": "text/x-python",
   "name": "python",
   "nbconvert_exporter": "python",
   "pygments_lexer": "ipython3",
   "version": "3.8.10"
  }
 },
 "nbformat": 4,
 "nbformat_minor": 5
}
